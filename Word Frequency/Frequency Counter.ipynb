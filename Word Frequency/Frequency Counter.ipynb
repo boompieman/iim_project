{
 "cells": [
  {
   "cell_type": "code",
   "execution_count": 54,
   "metadata": {
    "collapsed": true
   },
   "outputs": [],
   "source": [
    "# this program can ONLY run after executing NLTK Stemmer\n",
    "# since we need to refer to the table created by NLTK Stemmer"
   ]
  },
  {
   "cell_type": "code",
   "execution_count": 288,
   "metadata": {
    "collapsed": false
   },
   "outputs": [
    {
     "data": {
      "text/plain": [
       "0"
      ]
     },
     "execution_count": 288,
     "metadata": {},
     "output_type": "execute_result"
    }
   ],
   "source": [
    "# connect to database\n",
    "import pymysql\n",
    "connection = pymysql.connect(host='140.116.112.164',\n",
    "                             user='iim_project',\n",
    "                             password='1qaz2wsx3eDC',\n",
    "                             db='words_pos',\n",
    "                             charset='utf8mb4',\n",
    "                             cursorclass=pymysql.cursors.DictCursor)\n",
    "\n",
    "cursor = connection.cursor()\n"
   ]
  },
  {
   "cell_type": "code",
   "execution_count": 352,
   "metadata": {
    "collapsed": true
   },
   "outputs": [],
   "source": [
    "cursor.execute('use words_pos')\n",
    "fileRoot = 'ES2002a.D.words'"
   ]
  },
  {
   "cell_type": "code",
   "execution_count": 353,
   "metadata": {
    "collapsed": true
   },
   "outputs": [],
   "source": [
    "fileTableName = fileRoot + '_POS'"
   ]
  },
  {
   "cell_type": "code",
   "execution_count": 354,
   "metadata": {
    "collapsed": false
   },
   "outputs": [
    {
     "data": {
      "text/plain": [
       "1213"
      ]
     },
     "execution_count": 354,
     "metadata": {},
     "output_type": "execute_result"
    }
   ],
   "source": [
    "# load stemmedWords from database\n",
    "cursor.execute(\"select lowerCasedStemmedWord from `%s`\", fileTableName)"
   ]
  },
  {
   "cell_type": "code",
   "execution_count": 355,
   "metadata": {
    "collapsed": true
   },
   "outputs": [],
   "source": [
    "stemmedWords = cursor.fetchall()"
   ]
  },
  {
   "cell_type": "code",
   "execution_count": 356,
   "metadata": {
    "collapsed": false
   },
   "outputs": [],
   "source": [
    "countDic = {}\n",
    "for aWord in stemmedWords:\n",
    "    wordStr = aWord['lowerCasedStemmedWord']\n",
    "    if wordStr in countDic:\n",
    "        # get current frequency\n",
    "        frequency = countDic[wordStr]\n",
    "        frequency = frequency + 1\n",
    "        countDic[wordStr] = frequency\n",
    "    else:\n",
    "        # set frequency = 1\n",
    "        countDic[wordStr] = 1"
   ]
  },
  {
   "cell_type": "code",
   "execution_count": 357,
   "metadata": {
    "collapsed": false
   },
   "outputs": [
    {
     "name": "stdout",
     "output_type": "stream",
     "text": [
      "create table `%s` (id int(11) NOT NULL AUTO_INCREMENT, stemmedWord char(16), frequency int(11), owner char (16), PRIMARY KEY(id)) ENGINE=InnoDB DEFAULT CHARSET=utf8 COLLATE=utf8_bin AUTO_INCREMENT=1\n"
     ]
    }
   ],
   "source": [
    "# create new table to store frequency\n",
    "sql_create = \"create table `%s` (id int(11) NOT NULL AUTO_INCREMENT, stemmedWord char(16), frequency int(11), owner char (16), PRIMARY KEY(id)) ENGINE=InnoDB DEFAULT CHARSET=utf8 COLLATE=utf8_bin AUTO_INCREMENT=1\"\n",
    "print sql_create"
   ]
  },
  {
   "cell_type": "code",
   "execution_count": 358,
   "metadata": {
    "collapsed": false
   },
   "outputs": [
    {
     "name": "stdout",
     "output_type": "stream",
     "text": [
      "ES2002a.D.words_Freq\n"
     ]
    }
   ],
   "source": [
    "frequencyTableName = fileRoot + '_Freq'\n",
    "print frequencyTableName"
   ]
  },
  {
   "cell_type": "code",
   "execution_count": 359,
   "metadata": {
    "collapsed": false
   },
   "outputs": [],
   "source": [
    "cursor.execute('use words_freq')\n",
    "cursor.execute(sql_create, frequencyTableName)\n",
    "connection.commit()"
   ]
  },
  {
   "cell_type": "code",
   "execution_count": 360,
   "metadata": {
    "collapsed": false
   },
   "outputs": [
    {
     "name": "stdout",
     "output_type": "stream",
     "text": [
      "insert into `%s` (stemmedWord, frequency, owner) values (%s, %s, %s)\n"
     ]
    }
   ],
   "source": [
    "# save data to table\n",
    "sql_insert = \"insert into `%s` (stemmedWord, frequency, owner) values (%s, %s, %s)\"\n",
    "print sql_insert"
   ]
  },
  {
   "cell_type": "code",
   "execution_count": 361,
   "metadata": {
    "collapsed": false
   },
   "outputs": [],
   "source": [
    "for key, value in countDic.iteritems():\n",
    "    cursor.execute(sql_insert, (frequencyTableName, key, value, fileRoot))\n",
    "connection.commit()"
   ]
  },
  {
   "cell_type": "code",
   "execution_count": null,
   "metadata": {
    "collapsed": true
   },
   "outputs": [],
   "source": []
  },
  {
   "cell_type": "code",
   "execution_count": null,
   "metadata": {
    "collapsed": true
   },
   "outputs": [],
   "source": []
  }
 ],
 "metadata": {
  "kernelspec": {
   "display_name": "Python 2",
   "language": "python",
   "name": "python2"
  },
  "language_info": {
   "codemirror_mode": {
    "name": "ipython",
    "version": 2
   },
   "file_extension": ".py",
   "mimetype": "text/x-python",
   "name": "python",
   "nbconvert_exporter": "python",
   "pygments_lexer": "ipython2",
   "version": "2.7.11"
  }
 },
 "nbformat": 4,
 "nbformat_minor": 0
}
