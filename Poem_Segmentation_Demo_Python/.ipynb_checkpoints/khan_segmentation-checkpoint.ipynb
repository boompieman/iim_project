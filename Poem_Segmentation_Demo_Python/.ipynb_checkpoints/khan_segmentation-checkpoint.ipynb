{
 "cells": [
  {
   "cell_type": "code",
   "execution_count": 1,
   "metadata": {
    "collapsed": false
   },
   "outputs": [
    {
     "name": "stdout",
     "output_type": "stream",
     "text": [
      "Populating the interactive namespace from numpy and matplotlib\n"
     ]
    }
   ],
   "source": [
    "%pylab inline"
   ]
  },
  {
   "cell_type": "markdown",
   "metadata": {},
   "source": [
    "An initial study of topical poetry segmentation\n",
    "======\n",
    "\n",
    "This work investigates topical segmentation of poetry to better understand its interpretation humans.  Nine segmentations of the poem titled Kubla Khan (Coleridge, 1816) were collected; a small number, but enough to inform a future larger study and to obtain feedback upon the methodologies used.\n",
    "\n",
    "```Chris Fournier. 2013. An initial study of topical poetry segmentation. Proceedings of the Second Workshop on Computational Linguistics for Literature, pp. 47-51. Association for Computational Linguistics, Stroudsburg, PA, USA.```"
   ]
  },
  {
   "cell_type": "code",
   "execution_count": 2,
   "metadata": {
    "collapsed": false
   },
   "outputs": [
    {
     "ename": "ImportError",
     "evalue": "No module named segeval",
     "output_type": "error",
     "traceback": [
      "\u001b[0;31m---------------------------------------------------------------------------\u001b[0m",
      "\u001b[0;31mImportError\u001b[0m                               Traceback (most recent call last)",
      "\u001b[0;32m<ipython-input-2-535dc84930b0>\u001b[0m in \u001b[0;36m<module>\u001b[0;34m()\u001b[0m\n\u001b[1;32m      2\u001b[0m \u001b[0;32mimport\u001b[0m \u001b[0mos\u001b[0m\u001b[0;34m\u001b[0m\u001b[0m\n\u001b[1;32m      3\u001b[0m \u001b[0;32mimport\u001b[0m \u001b[0mcsv\u001b[0m\u001b[0;34m\u001b[0m\u001b[0m\n\u001b[0;32m----> 4\u001b[0;31m \u001b[0;32mimport\u001b[0m \u001b[0msegeval\u001b[0m \u001b[0;32mas\u001b[0m \u001b[0mse\u001b[0m\u001b[0;34m\u001b[0m\u001b[0m\n\u001b[0m\u001b[1;32m      5\u001b[0m \u001b[0;32mimport\u001b[0m \u001b[0mnumpy\u001b[0m \u001b[0;32mas\u001b[0m \u001b[0mnp\u001b[0m\u001b[0;34m\u001b[0m\u001b[0m\n\u001b[1;32m      6\u001b[0m \u001b[0;32mimport\u001b[0m \u001b[0mmatplotlib\u001b[0m\u001b[0;34m.\u001b[0m\u001b[0mpyplot\u001b[0m \u001b[0;32mas\u001b[0m \u001b[0mplt\u001b[0m\u001b[0;34m\u001b[0m\u001b[0m\n",
      "\u001b[0;31mImportError\u001b[0m: No module named segeval"
     ]
    }
   ],
   "source": [
    "# Import required libraries\n",
    "import os\n",
    "import csv\n",
    "import segeval as se\n",
    "import numpy as np\n",
    "import matplotlib.pyplot as plt\n",
    "import itertools as it\n",
    "from collections import defaultdict\n",
    "from decimal import Decimal\n",
    "from hcluster import linkage, dendrogram, fcluster"
   ]
  },
  {
   "cell_type": "markdown",
   "metadata": {},
   "source": [
    "Load and define data\n",
    "--------------------\n",
    "\n",
    "Nine Master Tukers were recruited using from the United States and were asked to segment the poem into topically contiguous segments at the line level.  They were also asked to produce one-sentence summaries of each segment.\n",
    "\n",
    "**Data**\n",
    "\n",
    "* The segmentations themselves were saved within the file ``kubla_khan_fournier_2013.json``\n",
    "* The principle researcher read these summaries and attempted to label the type of segments that the Turkers produced which is saved as ``labels.csv``.\n",
    "\n",
    "To later perform comparisons in an order that ``hcluster`` expects, an ordered list of coders is defined herein named ``coders``."
   ]
  },
  {
   "cell_type": "code",
   "execution_count": 3,
   "metadata": {
    "collapsed": false
   },
   "outputs": [],
   "source": [
    "# Document to analyse\n",
    "item_name = u'kublakhan'\n",
    "number_of_lines = 54\n",
    "\n",
    "# Ordered list of coders (and numeric list of coders) used to relate\n",
    "# numbered cluster coders to other graphs\n",
    "coders = ['AWRAXV1RIYR0M', 'A23S6QOSZH9TMT', 'A21IFZJ0EDKM4E', 'AO3XB5I5QNNUI', 'A3RLCGRXA34GC0', 'A21SF3IKIZB0VN', 'APXNY64HXO08K', 'AM155T4U3RE1A', 'A2YBGZ2H2KSO5T']\n",
    "labels = ['%i' % i for i in range(0, len(coders))]\n",
    "\n",
    "# Load segmentation dataset\n",
    "filepath = os.path.join('data', 'kubla_khan_fournier_2013.json')\n",
    "dataset = se.input_linear_mass_json(filepath)\n",
    "\n",
    "# Load labels\n",
    "segment_labels = dict()\n",
    "filepath = os.path.join('data', 'kubla_khan_fournier_2013', 'labels.csv')\n",
    "with open(filepath) as csv_file:\n",
    "    reader = csv.reader(csv_file, delimiter=',')\n",
    "    for row in reader:\n",
    "        segment_labels[row[0]] = [item.strip() for item in row[1:]]"
   ]
  },
  {
   "cell_type": "markdown",
   "metadata": {},
   "source": [
    "Compute descriptive statistics\n",
    "------------------------------\n",
    "\n",
    "Two descriptive statistics are used to analyse the codings that the coders produced:\n",
    "\n",
    "* Boundary Similarity (B) to analyse the boundaries placed by segmenters; and\n",
    "* Jaccard Similarity (J) of the labels describing the segments (where the labels for each segment are placed upon each line before computing similarity).\n",
    "\n",
    "Boundary SImilarity is described in:\n",
    "\n",
    "```Chris Fournier. 2013. Evaluating Text Segmentation using Boundary Edit Distance. Proceedings of the 51st Annual Meeting of the Association for Computational Linguistics. Association for Computational Linguistics, Stroudsburg, PA, USA.\n",
    "```"
   ]
  },
  {
   "cell_type": "code",
   "execution_count": 4,
   "metadata": {
    "collapsed": false
   },
   "outputs": [],
   "source": [
    "# Compute boundaries\n",
    "boundaries = dict([(key, len(mass) - 1) for key, mass in dataset[item_name].items()])\n",
    "coder_boundaries = [boundaries[coder] for coder in coders]\n",
    "\n",
    "# Compute similarities (1-B)\n",
    "similarities = se.boundary_similarity(dataset, one_minus=True)"
   ]
  },
  {
   "cell_type": "code",
   "execution_count": 5,
   "metadata": {
    "collapsed": false
   },
   "outputs": [],
   "source": [
    "# Expand segment labels using the mass of each segment to create\n",
    "# a one to one mapping between line and segment label\n",
    "expanded_segment_labels = defaultdict(list)\n",
    "for coder in coders:\n",
    "    masses = dataset[item_name][coder]\n",
    "    coder_segment_labels = segment_labels[coder]\n",
    "    expanded_segment = list()\n",
    "    for mass, coder_segment_label in zip(masses, coder_segment_labels):\n",
    "        expanded_segment.extend(list([coder_segment_label]) * mass)\n",
    "    expanded_segment_labels[coder] = expanded_segment\n",
    "\n",
    "# Define label similarity function\n",
    "def jaccard(a, b):\n",
    "    return float(len(a & b)) / float(len(a | b))\n",
    "\n",
    "# Compute overall label Jaccard similarities per position\n",
    "total_similarities = list()\n",
    "row_similarities = list()\n",
    "for i in xrange(0, number_of_lines):\n",
    "    parts = list()\n",
    "    for coder in coders:\n",
    "        parts.append(set(expanded_segment_labels[coder][i].split('/')))\n",
    "    part_combinations = it.combinations(parts, 2)\n",
    "    position_similarities = [jaccard(a, b) for a, b in part_combinations]\n",
    "    total_similarities.extend(position_similarities)\n",
    "    row_similarities.append(position_similarities)"
   ]
  },
  {
   "cell_type": "markdown",
   "metadata": {},
   "source": [
    "Define helper functions\n",
    "-----------------------\n",
    "\n",
    "Functions that aid in graphing."
   ]
  },
  {
   "cell_type": "code",
   "execution_count": 6,
   "metadata": {
    "collapsed": false
   },
   "outputs": [],
   "source": [
    "def autolabel(rects, rotation=0, xpad=0):\n",
    "    # attach some text labels\n",
    "    for rect in rects:\n",
    "        height = rect.get_height()\n",
    "        ax.text(rect.get_x()+rect.get_width()/2.+xpad, 1.05*height, '%.2f'%float(height),\n",
    "                ha='center', va='bottom', rotation=rotation)"
   ]
  },
  {
   "cell_type": "markdown",
   "metadata": {},
   "source": [
    "Overall analysis\n",
    "-----"
   ]
  },
  {
   "cell_type": "code",
   "execution_count": 7,
   "metadata": {
    "collapsed": false
   },
   "outputs": [
    {
     "name": "stdout",
     "output_type": "stream",
     "text": [
      "Mean B \t\t 0.5375 +/- 0.1158, n=36\n",
      "Mean J \t\t 0.5330 +/- 0.4567, n=1944\n",
      "Fleiss' Pi \t 0.3789\n"
     ]
    }
   ],
   "source": [
    "similarity_values = [float(value) for value in similarities.values()]\n",
    "mean_b = np.mean(similarity_values)\n",
    "std_b  = np.std(similarity_values)\n",
    "\n",
    "mean_j = np.mean(total_similarities)\n",
    "std_j = np.std(total_similarities)\n",
    "\n",
    "print 'Mean B \\t\\t {0:.4f} +/- {1:.4f}, n={2}'.format(mean_b, std_b, len(similarity_values))\n",
    "print 'Mean J \\t\\t {0:.4f} +/- {1:.4f}, n={2}'.format(mean_j, std_j, len(total_similarities))\n",
    "print 'Fleiss\\' Pi \\t {0:.4f}'.format(se.fleiss_pi_linear(dataset))"
   ]
  },
  {
   "cell_type": "markdown",
   "metadata": {},
   "source": [
    "Subset analysis\n",
    "----------------\n",
    "\n",
    "The overall statistics show that the 9 coders have low agreement regardless of the metric used."
   ]
  },
  {
   "cell_type": "markdown",
   "metadata": {},
   "source": [
    "**Cluster segmentations by boundary similarity**\n",
    "\n",
    "*Hypothesis*: Subsets of the coders may agree better with eachother.\n",
    "\n",
    "To explore this hypothesis, the similarities of the boundaries placed within each segmentation (1-B) were used as a distance function to perform hierarchical agglomerative clustering.  Each cluster can then be analyzed."
   ]
  },
  {
   "cell_type": "code",
   "execution_count": 8,
   "metadata": {
    "collapsed": false
   },
   "outputs": [],
   "source": [
    "# Order distances for clustering\n",
    "coder_combinations = [list(a) for a in it.combinations(coders, 2)]\n",
    "for coder_combination in coder_combinations:\n",
    "    coder_combinations.reverse()\n",
    "keys = list()\n",
    "for a in coder_combinations:\n",
    "    a = list(a)\n",
    "    key = ','.join([item_name] + a)\n",
    "    if key not in similarities:\n",
    "        a.reverse()\n",
    "    key = ','.join([item_name] + a)\n",
    "    keys.append(key)\n",
    "distances = [similarities[key] for key in keys]"
   ]
  },
  {
   "cell_type": "code",
   "execution_count": 9,
   "metadata": {
    "collapsed": false
   },
   "outputs": [
    {
     "data": {
      "image/png": "[encoded data removed]"
     },
     "metadata": {},
     "output_type": "display_data"
    }
   ],
   "source": [
    "# Cluster\n",
    "aglomerative_clusters = linkage(distances, method='complete')\n",
    "dendro = dendrogram(aglomerative_clusters, labels=labels)\n",
    "plt.ylabel('Mean Distance (1-B)')\n",
    "plt.xlabel('Coder')\n",
    "plt.show(dendro)"
   ]
  },
  {
   "cell_type": "markdown",
   "metadata": {},
   "source": [
    "**Compute statistics for each cluster**\n",
    "\n",
    "Given the clusters produced above, let's calculate statistics for each cluster."
   ]
  },
  {
   "cell_type": "code",
   "execution_count": 10,
   "metadata": {
    "collapsed": false
   },
   "outputs": [],
   "source": [
    "cluster_members = {\n",
    "    '0,2' : [coders[0], coders[2]],\n",
    "    '1,0,2' : [coders[1], coders[0], coders[2]],\n",
    "    '4,7' : [coders[4], coders[7]],\n",
    "    '1,0,2,4,7' : [coders[1], coders[0], coders[2], coders[4], coders[7]],\n",
    "    '6,8' : [coders[6], coders[8]],\n",
    "    '5,6,8' : [coders[5], coders[6], coders[8]],\n",
    "    '3,5,6,8' : [coders[3], coders[5], coders[6], coders[8]]\n",
    "}\n",
    "\n",
    "cluster_pi = dict()\n",
    "cluster_b  = dict()\n",
    "cluster_j  = dict()\n",
    "for cluster, members in cluster_members.items():\n",
    "    data = {coder : dataset[item_name][coder] for coder in members}\n",
    "    dataset_subset = se.Dataset({item_name : data})\n",
    "    cluster_b[cluster]  = [float(value) for value in se.boundary_similarity(dataset_subset, n_t=2).values()]\n",
    "    cluster_pi[cluster] = float(se.fleiss_pi_linear(dataset_subset, n_t=2))\n",
    "    position_j = list()\n",
    "    for i in xrange(0, number_of_lines):\n",
    "        parts = list()\n",
    "        for coder in members:\n",
    "            parts.append(set(expanded_segment_labels[coder][i].split('/')))\n",
    "        part_combinations = it.combinations(parts, 2)\n",
    "        position_similarities = [jaccard(a, b) for a, b in part_combinations]\n",
    "        position_j.extend(position_similarities)\n",
    "    cluster_j[cluster] = position_j"
   ]
  },
  {
   "cell_type": "code",
   "execution_count": 11,
   "metadata": {
    "collapsed": false
   },
   "outputs": [
    {
     "name": "stdout",
     "output_type": "stream",
     "text": [
      "Cluster\t\tPi\tB\t\t\tJ\n",
      "4,7\t\t0.3704\t0.5161 +/- 0.0000, n=1\t0.4907 +/- 0.4953, n=54\n",
      "0,2\t\t0.6946\t0.7381 +/- 0.0000, n=1\t0.4599 +/- 0.4385, n=54\n",
      "6,8\t\t0.7625\t0.7727 +/- 0.0000, n=1\t0.6852 +/- 0.4644, n=54\n",
      "1,0,2\t\t0.5520\t0.6400 +/- 0.0694, n=3\t0.5082 +/- 0.4524, n=162\n",
      "1,0,2,4,7\t0.4474\t0.5623 +/- 0.0792, n=10\t0.5120 +/- 0.4672, n=540\n",
      "3,5,6,8\t\t0.4764\t0.5187 +/- 0.1239, n=6\t0.5926 +/- 0.4245, n=324\n",
      "5,6,8\t\t0.5389\t0.5909 +/- 0.1372, n=3\t0.5802 +/- 0.4320, n=162\n"
     ]
    }
   ],
   "source": [
    "print 'Cluster\\t\\tPi\\tB\\t\\t\\tJ'\n",
    "for cluster in cluster_members.keys():\n",
    "    print '{0}\\t{1:.4f}\\t{2:.4f} +/- {3:.4f}, n={4}\\t{5:.4f} +/- {6:.4f}, n={7}'.format(cluster if len(cluster) > 7 else cluster+'\\t',\n",
    "        np.mean(cluster_pi[cluster]),\n",
    "        np.mean(cluster_b[cluster]),\n",
    "        np.std(cluster_b[cluster]),\n",
    "        len(cluster_b[cluster]),\n",
    "        np.mean(cluster_j[cluster]),\n",
    "        np.std(cluster_j[cluster]),\n",
    "        len(cluster_j[cluster]))"
   ]
  },
  {
   "cell_type": "markdown",
   "metadata": {},
   "source": [
    "**Plot mean similarities per cluster**\n",
    "\n",
    "The mean boundary similarity (B) and mean Jaccard label similarity (J), with standard deviation, is shown below."
   ]
  },
  {
   "cell_type": "code",
   "execution_count": 12,
   "metadata": {
    "collapsed": false
   },
   "outputs": [
    {
     "data": {
      "image/png": "[encoded data removed]"
     },
     "metadata": {},
     "output_type": "display_data"
    }
   ],
   "source": [
    "y = list()\n",
    "y2 = list()\n",
    "y2err = list()\n",
    "y3 = list()\n",
    "y3err = list()\n",
    "\n",
    "for cluster in cluster_members.keys():\n",
    "    y.append(float(cluster_pi[cluster]))\n",
    "    y2.append(np.mean(cluster_b[cluster]))\n",
    "    y2err.append(np.std(cluster_b[cluster]))\n",
    "    y3.append(np.mean(cluster_j[cluster]))\n",
    "    y3err.append(np.std(cluster_j[cluster]))\n",
    "\n",
    "ind = np.arange(len(cluster_members))  # the x locations for the groups\n",
    "width = 0.26       # the width of the bars\n",
    "\n",
    "fig = plt.figure()\n",
    "ax = fig.add_subplot(111)\n",
    "rects1 = ax.bar(ind, y, width, color='0.25', ecolor='k')\n",
    "rects2 = ax.bar(ind+width, y2, width, yerr=y2err, color='0.5', ecolor='k')\n",
    "rects3 = ax.bar(ind+width*2, y3, width, yerr=y3err, color='0.75', ecolor='k')\n",
    "\n",
    "# add some\n",
    "ax.set_ylabel('Cluster similarity')\n",
    "ax.set_xticks(ind + ((width * 3) / 2))\n",
    "ax.set_xticklabels(labels)\n",
    "ax.set_xlim([-0.25,6.95])\n",
    "ax.set_ylim([0,1])\n",
    "\n",
    "ax.legend( (rects1[0], rects2[0], rects3[0]), ('$\\kappa_{\\mathrm{B}}$', 'E(B)', 'E(J)') )\n",
    "\n",
    "autolabel(rects1, rotation=90, xpad=.03)\n",
    "autolabel(rects2, rotation=90, xpad=.03)\n",
    "autolabel(rects3, rotation=90, xpad=.03)"
   ]
  },
  {
   "cell_type": "markdown",
   "metadata": {},
   "source": [
    "Coder analysis\n",
    "--------------\n",
    "\n",
    "Having looked at subsets of coders, it would be informative to also analyze coder behaviour overall."
   ]
  },
  {
   "cell_type": "markdown",
   "metadata": {},
   "source": [
    "**Plot boundary placement frequency**\n",
    "\n",
    "To visualize coder behaviour, this plot indicates the frequency at which various coders placed boundaries in this document."
   ]
  },
  {
   "cell_type": "code",
   "execution_count": 13,
   "metadata": {
    "collapsed": false
   },
   "outputs": [
    {
     "data": {
      "image/png": "[encoded data removed]"
     },
     "metadata": {},
     "output_type": "display_data"
    }
   ],
   "source": [
    "# Plot boundaries per coder\n",
    "y = coder_boundaries\n",
    "x = np.arange(len(y))\n",
    "\n",
    "# Set up\n",
    "width = 0.75\n",
    "fig = plt.figure()\n",
    "ax = fig.add_subplot(1,1,1)\n",
    "\n",
    "# Plot\n",
    "rects = ax.bar(x, y, width, color='0.75')\n",
    "\n",
    "# Add xticks\n",
    "ax.set_xticks(x + (width / 2))\n",
    "ax.set_xticklabels([str(val) for val in labels])\n",
    "\n",
    "# Draw mean lines\n",
    "xmin, xmax, ymean, ystd = -0.25, len(labels), np.mean(y), np.std(y)\n",
    "ax.plot([xmin, xmax], [ymean] * 2, color='k') # Draw mean\n",
    "ax.plot([xmin, xmax], [ymean + ystd] * 2, color='0.5') # Draw +std\n",
    "ax.plot([xmin, xmax], [ymean - ystd] * 2, color='0.5') # Draw -std\n",
    "\n",
    "# Add numbers to bars\n",
    "format_str='%d'\n",
    "fnc_value=int\n",
    "for rect in rects:\n",
    "    height = rect.get_height()\n",
    "    ax.text(rect.get_x() + rect.get_width() / 2., 1.05 * height, format_str%fnc_value(height), ha='center', va='bottom')\n",
    "\n",
    "# Format\n",
    "ax.set_xlim([-0.25, 9])\n",
    "ax.set_ylim([0, 30])\n",
    "ax.set_xlabel('Coder')\n",
    "ax.set_ylabel('Boundaries placed (quantity)')\n",
    "plt.show()"
   ]
  },
  {
   "cell_type": "markdown",
   "metadata": {},
   "source": [
    "**Plot coder label similarity per line**\n",
    "\n",
    "To visualize the areas of the poem which had the greatest agreement in terms of topic segment type, the Jaccard similarity per position between all coders was plotted."
   ]
  },
  {
   "cell_type": "code",
   "execution_count": 14,
   "metadata": {
    "collapsed": false
   },
   "outputs": [
    {
     "data": {
      "image/png": "[encoded data removed]"
     },
     "metadata": {},
     "output_type": "display_data"
    }
   ],
   "source": [
    "# Create heat map\n",
    "y_sim = list()\n",
    "y_sim_err = list()\n",
    "for row_similarity in row_similarities:\n",
    "    y_sim.append(np.mean(row_similarity))\n",
    "    y_sim_err.append(np.std(row_similarity))\n",
    "\n",
    "# Plot mean label similarity\n",
    "labels = ['$%i$' % i for i in range(0, number_of_lines)]\n",
    "\n",
    "y = list(y_sim)\n",
    "x = range(0, number_of_lines)\n",
    "plt.errorbar(x, y, color='k', )\n",
    "\n",
    "xlim([0, number_of_lines - 1])\n",
    "ylim([0, 1.05])\n",
    "\n",
    "plt.ylabel('Mean Label Jaccard Similarity')\n",
    "plt.xlabel('Line')\n",
    "\n",
    "plt.show()"
   ]
  },
  {
   "cell_type": "markdown",
   "metadata": {},
   "source": [
    "**Plot coder boundary frequency per line**\n",
    "\n",
    "To visualize the areas of the poem which had the greatest number of boundaries placed by all coders, the boundary frequency per position for all coders was plotted."
   ]
  },
  {
   "cell_type": "code",
   "execution_count": 15,
   "metadata": {
    "collapsed": false
   },
   "outputs": [],
   "source": [
    "position_frequency = [0] * (sum(dataset['kublakhan'].values()[0]) - 1) \n",
    "\n",
    "for segmentation in dataset['kublakhan'].values():\n",
    "    position = 0\n",
    "    for segment in segmentation[0:-1]:\n",
    "        position += segment\n",
    "        position_frequency[position] += 1\n",
    "\n",
    "position_boundary_sim = [float(value) / 9 for value in position_frequency]"
   ]
  },
  {
   "cell_type": "code",
   "execution_count": 16,
   "metadata": {
    "collapsed": false
   },
   "outputs": [
    {
     "data": {
      "image/png": "[encoded data removed]"
     },
     "metadata": {},
     "output_type": "display_data"
    }
   ],
   "source": [
    "# Create heat map\n",
    "y = position_frequency\n",
    "\n",
    "# Plot mean label similarity\n",
    "labels = ['$%i$' % i for i in range(0, number_of_lines)]\n",
    "\n",
    "x = range(0, number_of_lines - 1)\n",
    "plt.errorbar(x, y, color='k', )\n",
    "\n",
    "xlim([0, 52.0])\n",
    "ylim([0, 10])\n",
    "\n",
    "plt.ylabel('Boundary Frequency')\n",
    "plt.xlabel('Line')\n",
    "\n",
    "plt.show()"
   ]
  }
 ],
 "metadata": {
  "kernelspec": {
   "display_name": "Python 2",
   "language": "python",
   "name": "python2"
  },
  "language_info": {
   "codemirror_mode": {
    "name": "ipython",
    "version": 2
   },
   "file_extension": ".py",
   "mimetype": "text/x-python",
   "name": "python",
   "nbconvert_exporter": "python",
   "pygments_lexer": "ipython2",
   "version": "2.7.11"
  }
 },
 "nbformat": 4,
 "nbformat_minor": 0
}
