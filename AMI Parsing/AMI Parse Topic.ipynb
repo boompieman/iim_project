{
 "cells": [
  {
   "cell_type": "code",
   "execution_count": 1,
   "metadata": {
    "collapsed": true
   },
   "outputs": [],
   "source": [
    "import xml.etree.ElementTree as ET"
   ]
  },
  {
   "cell_type": "code",
   "execution_count": 2,
   "metadata": {
    "collapsed": true
   },
   "outputs": [],
   "source": [
    "tree = ET.parse('ES2002a.topic.xml')"
   ]
  },
  {
   "cell_type": "code",
   "execution_count": 3,
   "metadata": {
    "collapsed": true
   },
   "outputs": [],
   "source": [
    "root = tree.getroot()"
   ]
  },
  {
   "cell_type": "code",
   "execution_count": 8,
   "metadata": {
    "collapsed": false
   },
   "outputs": [
    {
     "name": "stdout",
     "output_type": "stream",
     "text": [
      "topic {'other_description': 'introduction of participants and their roles', '{http://nite.sourceforge.net/}id': 'ES2002a.topic.vkaraisk.1'} \n",
      "      \n",
      "topic {'other_description': 'project goals and design process', '{http://nite.sourceforge.net/}id': 'ES2002a.topic.vkaraisk.2'} \n",
      "      \n",
      "topic {'other_description': 'drawing animals on the whiteboard', '{http://nite.sourceforge.net/}id': 'ES2002a.topic.vkaraisk.3'} \n",
      "      \n",
      "topic {'{http://nite.sourceforge.net/}id': 'ES2002a.topic.vkaraisk.4'} \n",
      "      \n",
      "topic {'other_description': 'possible issues with project goals', '{http://nite.sourceforge.net/}id': 'ES2002a.topic.vkaraisk.5'} \n",
      "      \n",
      "topic {'other_description': 'initial ideas about RC design', '{http://nite.sourceforge.net/}id': 'ES2002a.topic.vkaraisk.7'} \n",
      "      \n",
      "topic {'{http://nite.sourceforge.net/}id': 'ES2002a.topic.vkaraisk.9'} \n",
      "      \n"
     ]
    }
   ],
   "source": [
    "for topic in root.iter('topic'):\n",
    "    print topic.attrib, topic.text"
   ]
  },
  {
   "cell_type": "code",
   "execution_count": null,
   "metadata": {
    "collapsed": true
   },
   "outputs": [],
   "source": []
  }
 ],
 "metadata": {
  "kernelspec": {
   "display_name": "Python 2",
   "language": "python",
   "name": "python2"
  },
  "language_info": {
   "codemirror_mode": {
    "name": "ipython",
    "version": 2
   },
   "file_extension": ".py",
   "mimetype": "text/x-python",
   "name": "python",
   "nbconvert_exporter": "python",
   "pygments_lexer": "ipython2",
   "version": "2.7.11"
  }
 },
 "nbformat": 4,
 "nbformat_minor": 0
}
