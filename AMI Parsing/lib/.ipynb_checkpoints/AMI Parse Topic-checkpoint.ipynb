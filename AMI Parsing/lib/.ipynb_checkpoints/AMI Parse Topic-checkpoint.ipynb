{
 "cells": [
  {
   "cell_type": "code",
   "execution_count": 1,
   "metadata": {
    "collapsed": false
   },
   "outputs": [],
   "source": [
    "#coding=utf-8\n",
    "# Topic Parser\n",
    "# Description:\n",
    "#    而每一份中會有數個會議檔案，用小寫編號 eg. ES2002a, ES2002b...\n",
    "#    每個檔案中會有數個人講話，用大寫編號 eg. A, B, C...\n",
    "# Usage:\n",
    "#    輸入欲分析的檔案，一直按指令即可"
   ]
  },
  {
   "cell_type": "code",
   "execution_count": 2,
   "metadata": {
    "collapsed": true
   },
   "outputs": [],
   "source": [
    "import xml.etree.ElementTree as ET"
   ]
  },
  {
   "cell_type": "code",
   "execution_count": 3,
   "metadata": {
    "collapsed": false
   },
   "outputs": [],
   "source": [
    "fileName= '../AMI_corpus_resources/topics/ES2002a.topic.xml'"
   ]
  },
  {
   "cell_type": "code",
   "execution_count": 4,
   "metadata": {
    "collapsed": false
   },
   "outputs": [],
   "source": [
    "tree = ET.parse(fileName)"
   ]
  },
  {
   "cell_type": "code",
   "execution_count": 5,
   "metadata": {
    "collapsed": true
   },
   "outputs": [],
   "source": [
    "root = tree.getroot()"
   ]
  },
  {
   "cell_type": "code",
   "execution_count": 6,
   "metadata": {
    "collapsed": true
   },
   "outputs": [],
   "source": [
    "idName = '{http://nite.sourceforge.net/}id'"
   ]
  },
  {
   "cell_type": "code",
   "execution_count": 7,
   "metadata": {
    "collapsed": true
   },
   "outputs": [],
   "source": [
    "filePrefix = 'ES2002a'"
   ]
  },
  {
   "cell_type": "code",
   "execution_count": 8,
   "metadata": {
    "collapsed": true
   },
   "outputs": [],
   "source": [
    "import re # regrssion expression"
   ]
  },
  {
   "cell_type": "code",
   "execution_count": 9,
   "metadata": {
    "collapsed": false
   },
   "outputs": [],
   "source": [
    "# find complete matched content\n",
    "def findTotalWord(totalContent):\n",
    "    pattern = 'id\\((\\w+\\.\\w\\.\\w+)\\)'\n",
    "    matched = re.findall(pattern, totalContent)\n",
    "    return matched"
   ]
  },
  {
   "cell_type": "code",
   "execution_count": 10,
   "metadata": {
    "collapsed": false
   },
   "outputs": [],
   "source": [
    "# print word indexes\n",
    "def getWordIndex(matched):\n",
    "    if len(matched) == 1:\n",
    "        print matched[0]\n",
    "    else:\n",
    "        # parse the word index\n",
    "        start = matched[0]\n",
    "        end = matched[1]\n",
    "        pattern = '\\d+'\n",
    "        startIndexes = re.findall(pattern, start)\n",
    "        endIndexes = re.findall(pattern, end)\n",
    "        startWordIndex = startIndexes[1]\n",
    "        endWordIndex = endIndexes[1]\n",
    "\n",
    "        # find the prefix # eg. ES2002a.B.words\n",
    "        prefixPattern = '\\D+\\d+\\D\\.\\D+\\.\\D+'\n",
    "        prefix = re.match(prefixPattern, start)\n",
    "        prefixStr = prefix.group(0)\n",
    "        \n",
    "        # conbine the prefix and the word index\n",
    "        wordList = []\n",
    "        for index in range(int(startWordIndex), int(endWordIndex) + 1):\n",
    "             wordList.append(prefixStr + str(index))\n",
    "        \n",
    "        return wordList"
   ]
  },
  {
   "cell_type": "code",
   "execution_count": 11,
   "metadata": {
    "collapsed": false
   },
   "outputs": [],
   "source": [
    "# open file\n",
    "f = open('ES2002a.txt', 'w+')"
   ]
  },
  {
   "cell_type": "code",
   "execution_count": 12,
   "metadata": {
    "collapsed": false
   },
   "outputs": [
    {
     "name": "stdout",
     "output_type": "stream",
     "text": [
      "topicDescription = introduction of participants and their roles\n",
      "topicID = ES2002a.topic.vkaraisk.1\n",
      "Matched Words: \n",
      "['ES2002a.B.words0', 'ES2002a.B.words71']\n",
      "['ES2002a.D.words0', 'ES2002a.D.words3']\n",
      "['ES2002a.A.words0', 'ES2002a.A.words12']\n",
      "['ES2002a.B.words72', 'ES2002a.B.words73']\n",
      "['ES2002a.D.words4', 'ES2002a.D.words11']\n",
      "['ES2002a.C.words0', 'ES2002a.C.words7']\n",
      "['ES2002a.D.words12', 'ES2002a.D.words13']\n",
      "------------------------------------\n",
      "topicDescription = project goals and design process\n",
      "topicID = ES2002a.topic.vkaraisk.2\n",
      "Matched Words: \n",
      "['ES2002a.B.words74', 'ES2002a.B.words192']\n",
      "['ES2002a.A.words13', 'ES2002a.A.words48']\n",
      "['ES2002a.B.words193', 'ES2002a.B.words194']\n",
      "['ES2002a.D.words14', 'ES2002a.D.words23']\n",
      "['ES2002a.C.words8', 'ES2002a.C.words9']\n",
      "['ES2002a.D.words24', 'ES2002a.D.words25']\n",
      "['ES2002a.B.words195', 'ES2002a.B.words225']\n",
      "------------------------------------\n",
      "topicDescription = drawing animals on the whiteboard\n",
      "topicID = ES2002a.topic.vkaraisk.3\n",
      "Matched Words: \n",
      "['ES2002a.B.words226', 'ES2002a.B.words268']\n",
      "['ES2002a.D.words26', 'ES2002a.D.words32']\n",
      "['ES2002a.B.words269', 'ES2002a.B.words272']\n",
      "['ES2002a.D.words33', 'ES2002a.D.words44']\n",
      "['ES2002a.B.words273', 'ES2002a.B.words274']\n",
      "['ES2002a.D.words45', 'ES2002a.D.words62']\n",
      "['ES2002a.B.words275']\n",
      "ES2002a.B.words275\n",
      "['ES2002a.D.words63', 'ES2002a.D.words134']\n",
      "['ES2002a.B.words276', 'ES2002a.B.words279']\n",
      "['ES2002a.A.words49']\n",
      "ES2002a.A.words49\n",
      "['ES2002a.B.words280', 'ES2002a.B.words284']\n",
      "['ES2002a.D.words135']\n",
      "ES2002a.D.words135\n",
      "['ES2002a.C.words10', 'ES2002a.C.words20']\n",
      "['ES2002a.B.words285']\n",
      "ES2002a.B.words285\n",
      "['ES2002a.A.words50']\n",
      "ES2002a.A.words50\n",
      "['ES2002a.C.words21', 'ES2002a.C.words47']\n",
      "['ES2002a.D.words136']\n",
      "ES2002a.D.words136\n",
      "['ES2002a.C.words48']\n",
      "ES2002a.C.words48\n",
      "['ES2002a.B.words286', 'ES2002a.B.words287']\n",
      "['ES2002a.A.words51', 'ES2002a.A.words52']\n",
      "['ES2002a.C.words49']\n",
      "ES2002a.C.words49\n",
      "['ES2002a.A.words53', 'ES2002a.A.words58']\n",
      "['ES2002a.B.words288', 'ES2002a.B.words325']\n",
      "['ES2002a.A.words59']\n",
      "ES2002a.A.words59\n",
      "['ES2002a.C.words50']\n",
      "ES2002a.C.words50\n",
      "['ES2002a.A.words60', 'ES2002a.A.words61']\n",
      "['ES2002a.D.words137', 'ES2002a.D.words155']\n",
      "['ES2002a.B.words326', 'ES2002a.B.words340']\n",
      "['ES2002a.C.words51']\n",
      "ES2002a.C.words51\n",
      "['ES2002a.B.words341', 'ES2002a.B.words357']\n",
      "['ES2002a.D.words156', 'ES2002a.D.words157']\n",
      "['ES2002a.B.words358']\n",
      "ES2002a.B.words358\n",
      "['ES2002a.C.words52']\n",
      "ES2002a.C.words52\n",
      "['ES2002a.A.words62', 'ES2002a.A.words65']\n",
      "['ES2002a.C.words53']\n",
      "ES2002a.C.words53\n",
      "['ES2002a.B.words359', 'ES2002a.B.words364']\n",
      "['ES2002a.A.words66', 'ES2002a.A.words120']\n",
      "['ES2002a.B.words365', 'ES2002a.B.words366']\n",
      "['ES2002a.A.words121', 'ES2002a.A.words143']\n",
      "['ES2002a.C.words54']\n",
      "ES2002a.C.words54\n",
      "['ES2002a.D.words158', 'ES2002a.D.words161']\n",
      "['ES2002a.A.words144', 'ES2002a.A.words152']\n",
      "['ES2002a.D.words162', 'ES2002a.D.words163']\n",
      "['ES2002a.B.words367', 'ES2002a.B.words382']\n",
      "['ES2002a.D.words164', 'ES2002a.D.words170']\n",
      "['ES2002a.A.words153', 'ES2002a.A.words162']\n",
      "['ES2002a.B.words383', 'ES2002a.B.words415']\n",
      "['ES2002a.D.words171', 'ES2002a.D.words173']\n",
      "['ES2002a.B.words416', 'ES2002a.B.words436']\n",
      "['ES2002a.D.words174', 'ES2002a.D.words182']\n",
      "['ES2002a.C.words55']\n",
      "ES2002a.C.words55\n",
      "['ES2002a.B.words437', 'ES2002a.B.words446']\n",
      "['ES2002a.D.words183', 'ES2002a.D.words189']\n",
      "['ES2002a.C.words56']\n",
      "ES2002a.C.words56\n",
      "['ES2002a.A.words163']\n",
      "ES2002a.A.words163\n",
      "['ES2002a.B.words447', 'ES2002a.B.words449']\n",
      "['ES2002a.D.words190', 'ES2002a.D.words194']\n",
      "['ES2002a.B.words450', 'ES2002a.B.words499']\n",
      "['ES2002a.D.words195']\n",
      "ES2002a.D.words195\n",
      "['ES2002a.A.words164']\n",
      "ES2002a.A.words164\n",
      "['ES2002a.B.words500', 'ES2002a.B.words521']\n",
      "['ES2002a.D.words196']\n",
      "ES2002a.D.words196\n",
      "['ES2002a.B.words522', 'ES2002a.B.words545']\n",
      "['ES2002a.A.words165']\n",
      "ES2002a.A.words165\n",
      "['ES2002a.D.words197', 'ES2002a.D.words209']\n",
      "['ES2002a.B.words546', 'ES2002a.B.words583']\n",
      "['ES2002a.D.words210', 'ES2002a.D.words212']\n",
      "['ES2002a.A.words166', 'ES2002a.A.words173']\n",
      "['ES2002a.B.words584', 'ES2002a.B.words588']\n",
      "['ES2002a.D.words213', 'ES2002a.D.words231']\n",
      "['ES2002a.B.words589', 'ES2002a.B.words610']\n",
      "['ES2002a.D.words232']\n",
      "ES2002a.D.words232\n",
      "['ES2002a.A.words174']\n",
      "ES2002a.A.words174\n",
      "------------------------------------\n",
      "topicID = ES2002a.topic.vkaraisk.4\n",
      "Matched Words: \n",
      "['ES2002a.B.words611', 'ES2002a.B.words700']\n",
      "['ES2002a.D.words233', 'ES2002a.D.words244']\n",
      "['ES2002a.B.words701', 'ES2002a.B.words702']\n",
      "['ES2002a.D.words245', 'ES2002a.D.words282']\n",
      "['ES2002a.B.words703', 'ES2002a.B.words717']\n",
      "['ES2002a.D.words283', 'ES2002a.D.words293']\n",
      "['ES2002a.B.words718', 'ES2002a.B.words747']\n",
      "['ES2002a.D.words294', 'ES2002a.D.words299']\n",
      "------------------------------------\n",
      "topicDescription = possible issues with project goals\n",
      "topicID = ES2002a.topic.vkaraisk.5\n",
      "Matched Words: \n",
      "['ES2002a.B.words748', 'ES2002a.B.words780']\n",
      "['ES2002a.D.words300', 'ES2002a.D.words302']\n",
      "['ES2002a.B.words781', 'ES2002a.B.words786']\n",
      "['ES2002a.D.words303', 'ES2002a.D.words306']\n",
      "['ES2002a.B.words787', 'ES2002a.B.words789']\n",
      "['ES2002a.D.words307', 'ES2002a.D.words349']\n",
      "['ES2002a.B.words790', 'ES2002a.B.words802']\n",
      "['ES2002a.A.words175', 'ES2002a.A.words176']\n",
      "['ES2002a.B.words803', 'ES2002a.B.words829']\n",
      "['ES2002a.D.words350', 'ES2002a.D.words357']\n",
      "['ES2002a.A.words177', 'ES2002a.A.words203']\n",
      "['ES2002a.B.words830', 'ES2002a.B.words835']\n",
      "['ES2002a.D.words358', 'ES2002a.D.words359']\n",
      "['ES2002a.A.words204', 'ES2002a.A.words207']\n",
      "['ES2002a.D.words360', 'ES2002a.D.words402']\n",
      "['ES2002a.B.words836', 'ES2002a.B.words861']\n",
      "['ES2002a.D.words403', 'ES2002a.D.words455']\n",
      "['ES2002a.B.words862', 'ES2002a.B.words890']\n",
      "['ES2002a.D.words456', 'ES2002a.D.words493']\n",
      "['ES2002a.B.words891', 'ES2002a.B.words894']\n",
      "['ES2002a.D.words494', 'ES2002a.D.words525']\n",
      "['ES2002a.B.words895', 'ES2002a.B.words911']\n",
      "['ES2002a.D.words526', 'ES2002a.D.words527']\n",
      "['ES2002a.B.words912', 'ES2002a.B.words946']\n",
      "['ES2002a.D.words528', 'ES2002a.D.words539']\n",
      "['ES2002a.B.words947', 'ES2002a.B.words975']\n",
      "['ES2002a.D.words540', 'ES2002a.D.words546']\n",
      "['ES2002a.B.words976', 'ES2002a.B.words990']\n",
      "['ES2002a.D.words547', 'ES2002a.D.words548']\n",
      "['ES2002a.B.words991', 'ES2002a.B.words1023']\n",
      "['ES2002a.D.words549', 'ES2002a.D.words562']\n",
      "['ES2002a.B.words1024', 'ES2002a.B.words1050']\n",
      "['ES2002a.D.words563', 'ES2002a.D.words567']\n",
      "['ES2002a.A.words208', 'ES2002a.A.words209']\n",
      "['ES2002a.D.words568', 'ES2002a.D.words569']\n",
      "['ES2002a.B.words1051', 'ES2002a.B.words1052']\n",
      "------------------------------------\n",
      "topicDescription = initial ideas about RC design\n",
      "topicID = ES2002a.topic.vkaraisk.7\n",
      "Matched Words: \n",
      "['ES2002a.D.words570', 'ES2002a.D.words624']\n",
      "['ES2002a.B.words1053', 'ES2002a.B.words1074']\n",
      "['ES2002a.D.words625', 'ES2002a.D.words695']\n",
      "['ES2002a.C.words57', 'ES2002a.C.words59']\n",
      "['ES2002a.A.words210', 'ES2002a.A.words211']\n",
      "['ES2002a.C.words60', 'ES2002a.C.words104']\n",
      "['ES2002a.D.words696', 'ES2002a.D.words721']\n",
      "['ES2002a.B.words1075', 'ES2002a.B.words1112']\n",
      "['ES2002a.D.words722', 'ES2002a.D.words778']\n",
      "['ES2002a.B.words1113', 'ES2002a.B.words1114']\n",
      "['ES2002a.D.words779', 'ES2002a.D.words813']\n",
      "['ES2002a.B.words1115', 'ES2002a.B.words1159']\n",
      "['ES2002a.D.words814', 'ES2002a.D.words880']\n",
      "['ES2002a.B.words1160', 'ES2002a.B.words1161']\n",
      "['ES2002a.D.words881', 'ES2002a.D.words900']\n",
      "['ES2002a.B.words1162', 'ES2002a.B.words1163']\n",
      "['ES2002a.D.words901', 'ES2002a.D.words902']\n",
      "['ES2002a.B.words1164', 'ES2002a.B.words1228']\n",
      "['ES2002a.A.words212', 'ES2002a.A.words217']\n",
      "['ES2002a.B.words1229', 'ES2002a.B.words1235']\n",
      "['ES2002a.D.words903', 'ES2002a.D.words904']\n",
      "['ES2002a.A.words218', 'ES2002a.A.words253']\n",
      "['ES2002a.D.words905', 'ES2002a.D.words912']\n",
      "['ES2002a.B.words1236', 'ES2002a.B.words1277']\n",
      "['ES2002a.D.words913', 'ES2002a.D.words916']\n",
      "['ES2002a.A.words254', 'ES2002a.A.words256']\n",
      "['ES2002a.D.words917', 'ES2002a.D.words1024']\n",
      "['ES2002a.B.words1278', 'ES2002a.B.words1300']\n",
      "['ES2002a.D.words1025', 'ES2002a.D.words1037']\n",
      "['ES2002a.B.words1301', 'ES2002a.B.words1316']\n",
      "['ES2002a.D.words1038', 'ES2002a.D.words1101']\n",
      "['ES2002a.B.words1317', 'ES2002a.B.words1326']\n",
      "['ES2002a.D.words1102', 'ES2002a.D.words1106']\n",
      "['ES2002a.C.words105', 'ES2002a.C.words106']\n",
      "------------------------------------\n",
      "topicID = ES2002a.topic.vkaraisk.9\n",
      "Matched Words: \n",
      "['ES2002a.B.words1327', 'ES2002a.B.words1423']\n",
      "['ES2002a.A.words257', 'ES2002a.A.words258']\n",
      "['ES2002a.B.words1424', 'ES2002a.B.words1457']\n",
      "['ES2002a.D.words1107', 'ES2002a.D.words1108']\n",
      "['ES2002a.B.words1458', 'ES2002a.B.words1459']\n",
      "['ES2002a.D.words1109']\n",
      "ES2002a.D.words1109\n",
      "['ES2002a.B.words1460', 'ES2002a.B.words1502']\n",
      "['ES2002a.D.words1110', 'ES2002a.D.words1153']\n",
      "['ES2002a.B.words1503', 'ES2002a.B.words1508']\n",
      "['ES2002a.A.words259', 'ES2002a.A.words260']\n",
      "['ES2002a.D.words1154', 'ES2002a.D.words1197']\n",
      "['ES2002a.B.words1509', 'ES2002a.B.words1552']\n",
      "['ES2002a.D.words1198', 'ES2002a.D.words1205']\n",
      "['ES2002a.A.words261', 'ES2002a.A.words269']\n",
      "['ES2002a.D.words1206', 'ES2002a.D.words1209']\n",
      "['ES2002a.A.words270', 'ES2002a.A.words290']\n",
      "['ES2002a.B.words1553', 'ES2002a.B.words1554']\n",
      "['ES2002a.D.words1210', 'ES2002a.D.words1211']\n",
      "['ES2002a.B.words1555', 'ES2002a.B.words1556']\n",
      "['ES2002a.D.words1212', 'ES2002a.D.words1213']\n",
      "['ES2002a.B.words1557', 'ES2002a.B.words1558']\n",
      "['ES2002a.A.words291', 'ES2002a.A.words298']\n",
      "['ES2002a.B.words1559', 'ES2002a.B.words1577']\n",
      "['ES2002a.D.words1214', 'ES2002a.D.words1219']\n",
      "['ES2002a.B.words1578', 'ES2002a.B.words1587']\n",
      "['ES2002a.D.words1220']\n",
      "ES2002a.D.words1220\n",
      "['ES2002a.A.words299', 'ES2002a.A.words301']\n",
      "------------------------------------\n"
     ]
    }
   ],
   "source": [
    "# content\n",
    "for topic in root.iter('topic'):\n",
    "    topicDescription = topic.get('other_description')\n",
    "    topicID = topic.get(idName)  # get: find attribute's content\n",
    "    if topicDescription:\n",
    "        print \"topicDescription = \" + topicDescription\n",
    "        f.write(topicDescription)\n",
    "        f.write(\"\\n\")\n",
    "    if topicID:\n",
    "        print \"topicID = \" + topicID\n",
    "        f.write(topicID)\n",
    "        f.write('\\n')\n",
    "        \n",
    "    print 'Matched Words: '\n",
    "    f.write('Matched Words: \\n')\n",
    "    \n",
    "    matchWords = []\n",
    "    for child in topic.iter('{http://nite.sourceforge.net/}child'):\n",
    "        href = child.get('href')\n",
    "        totalWord = findTotalWord(href)\n",
    "        print totalWord\n",
    "        \n",
    "        matchWords.append(getWordIndex(totalWord))\n",
    "        for wordIndex in matchWords:\n",
    "            f.write(\"%s\\n\" % wordIndex)\n",
    "    print \"------------------------------------\"\n",
    "    print >> f, \"------------------------------------\""
   ]
  },
  {
   "cell_type": "code",
   "execution_count": 13,
   "metadata": {
    "collapsed": true
   },
   "outputs": [],
   "source": [
    "f.close()"
   ]
  },
  {
   "cell_type": "code",
   "execution_count": null,
   "metadata": {
    "collapsed": true
   },
   "outputs": [],
   "source": []
  }
 ],
 "metadata": {
  "kernelspec": {
   "display_name": "Python 2",
   "language": "python",
   "name": "python2"
  },
  "language_info": {
   "codemirror_mode": {
    "name": "ipython",
    "version": 2
   },
   "file_extension": ".py",
   "mimetype": "text/x-python",
   "name": "python",
   "nbconvert_exporter": "python",
   "pygments_lexer": "ipython2",
   "version": "2.7.11"
  }
 },
 "nbformat": 4,
 "nbformat_minor": 0
}
