{
 "cells": [
  {
   "cell_type": "code",
   "execution_count": 379,
   "metadata": {
    "collapsed": false
   },
   "outputs": [
    {
     "name": "stdout",
     "output_type": "stream",
     "text": [
      "[nltk_data] Downloading package wordnet to /Users/makris/nltk_data...\n",
      "[nltk_data]   Package wordnet is already up-to-date!\n",
      "[nltk_data] Downloading package averaged_perceptron_tagger to\n",
      "[nltk_data]     /Users/makris/nltk_data...\n",
      "[nltk_data]   Package averaged_perceptron_tagger is already up-to-\n",
      "[nltk_data]       date!\n"
     ]
    },
    {
     "data": {
      "text/plain": [
       "True"
      ]
     },
     "execution_count": 379,
     "metadata": {},
     "output_type": "execute_result"
    }
   ],
   "source": [
    "import nltk\n",
    "\n",
    "nltk.download(\"wordnet\")\n",
    "nltk.download(\"averaged_perceptron_tagger\")"
   ]
  },
  {
   "cell_type": "code",
   "execution_count": 380,
   "metadata": {
    "collapsed": false
   },
   "outputs": [],
   "source": [
    "from nltk.corpus import wordnet\n",
    "from nltk import word_tokenize, pos_tag\n",
    "from nltk.stem import WordNetLemmatizer"
   ]
  },
  {
   "cell_type": "code",
   "execution_count": 381,
   "metadata": {
    "collapsed": false
   },
   "outputs": [],
   "source": [
    "wnl = WordNetLemmatizer()"
   ]
  },
  {
   "cell_type": "code",
   "execution_count": 382,
   "metadata": {
    "collapsed": false
   },
   "outputs": [
    {
     "name": "stdout",
     "output_type": "stream",
     "text": [
      "left\n",
      "leave\n",
      "absolutely\n"
     ]
    }
   ],
   "source": [
    "# Lemmatizer demo\n",
    "print wnl.lemmatize('left')\n",
    "print wnl.lemmatize('left',pos='v')\n",
    "print wnl.lemmatize('absolutely')"
   ]
  },
  {
   "cell_type": "code",
   "execution_count": 383,
   "metadata": {
    "collapsed": false
   },
   "outputs": [],
   "source": [
    "# refers to http://linusp.github.io/2016/01/21/lemmatization-survey.html\n",
    "def get_wordnet_pos(treebank_tag):\n",
    "    if treebank_tag.startswith('J'):\n",
    "        return wordnet.ADJ\n",
    "    elif treebank_tag.startswith('V'):\n",
    "        return wordnet.VERB\n",
    "    elif treebank_tag.startswith('N'):\n",
    "        return wordnet.NOUN\n",
    "    elif treebank_tag.startswith('R'):\n",
    "        return wordnet.ADV\n",
    "    else:\n",
    "        return None"
   ]
  },
  {
   "cell_type": "code",
   "execution_count": 384,
   "metadata": {
    "collapsed": false
   },
   "outputs": [],
   "source": [
    "def lemmatize_sentence(sentence):\n",
    "    res = []\n",
    "    lemmatizer = WordNetLemmatizer()\n",
    "    for word, pos in pos_tag(word_tokenize(sentence)):\n",
    "        aWord = []\n",
    "        \n",
    "        # original word\n",
    "        aWord.append(word)\n",
    "        \n",
    "        # Part of Class\n",
    "        aWord.append(pos)\n",
    "        \n",
    "        # stemmedWord\n",
    "        wordnet_pos = get_wordnet_pos(pos) or wordnet.NOUN\n",
    "        stemmedWord = lemmatizer.lemmatize(word, pos=wordnet_pos)\n",
    "        aWord.append(stemmedWord)\n",
    "        \n",
    "        # lowerCasedStemmedWord\n",
    "        lowerCasedStemmedWord = stemmedWord.lower()\n",
    "        aWord.append(lowerCasedStemmedWord)\n",
    "        \n",
    "        # save content\n",
    "        res.append(aWord)\n",
    "\n",
    "    return res"
   ]
  },
  {
   "cell_type": "code",
   "execution_count": 610,
   "metadata": {
    "collapsed": false
   },
   "outputs": [
    {
     "data": {
      "text/plain": [
       "0"
      ]
     },
     "execution_count": 610,
     "metadata": {},
     "output_type": "execute_result"
    }
   ],
   "source": [
    "# connect to database\n",
    "import pymysql\n",
    "connection = pymysql.connect(host='140.116.112.164',\n",
    "                             user='iim_project',\n",
    "                             password='1qaz2wsx3eDC',\n",
    "                             db='words_pos',\n",
    "                             charset='utf8mb4',\n",
    "                             cursorclass=pymysql.cursors.DictCursor)\n",
    "\n",
    "cursor = connection.cursor()\n",
    "cursor.execute('use words_pos')"
   ]
  },
  {
   "cell_type": "code",
   "execution_count": 652,
   "metadata": {
    "collapsed": false
   },
   "outputs": [],
   "source": [
    "# CHANGE THE FILE NAME HERE!!!!!!!!!!!!!!\n",
    "fileRoot = 'ES2002a.D.words'"
   ]
  },
  {
   "cell_type": "code",
   "execution_count": 653,
   "metadata": {
    "collapsed": false
   },
   "outputs": [],
   "source": [
    "f = open('../AMI Parsing/data/wordsCombined_txt/' + fileRoot + '.txt', 'r+')"
   ]
  },
  {
   "cell_type": "code",
   "execution_count": 654,
   "metadata": {
    "collapsed": true
   },
   "outputs": [],
   "source": [
    "text = f.read()"
   ]
  },
  {
   "cell_type": "code",
   "execution_count": 655,
   "metadata": {
    "collapsed": true
   },
   "outputs": [],
   "source": [
    "# refers to http://www.nltk.org/book/ch05.html\n",
    "result = lemmatize_sentence(text)"
   ]
  },
  {
   "cell_type": "code",
   "execution_count": 656,
   "metadata": {
    "collapsed": false
   },
   "outputs": [
    {
     "name": "stdout",
     "output_type": "stream",
     "text": [
      "ES2002a.D.words_POS\n"
     ]
    }
   ],
   "source": [
    "fileTableName = fileRoot + '_POS'\n",
    "print fileTableName"
   ]
  },
  {
   "cell_type": "code",
   "execution_count": 657,
   "metadata": {
    "collapsed": false
   },
   "outputs": [
    {
     "name": "stdout",
     "output_type": "stream",
     "text": [
      "create table `%s` (id int(11) NOT NULL AUTO_INCREMENT, word char(16), wordOfClass char(11), stemmedWord char(11), lowerCasedStemmedWord char(16), wordPosition char(16), owner char(16), PRIMARY KEY(id)) ENGINE=InnoDB DEFAULT CHARSET=utf8 COLLATE=utf8_bin AUTO_INCREMENT=1\n"
     ]
    }
   ],
   "source": [
    "sql_create = \"create table `%s` (id int(11) NOT NULL AUTO_INCREMENT, word char(16), wordOfClass char(11), stemmedWord char(11), lowerCasedStemmedWord char(16), wordPosition char(16), owner char(16), PRIMARY KEY(id)) ENGINE=InnoDB DEFAULT CHARSET=utf8 COLLATE=utf8_bin AUTO_INCREMENT=1\"\n",
    "print sql_create"
   ]
  },
  {
   "cell_type": "code",
   "execution_count": 658,
   "metadata": {
    "collapsed": false
   },
   "outputs": [],
   "source": [
    "cursor.execute(sql_create, fileTableName)\n",
    "connection.commit()"
   ]
  },
  {
   "cell_type": "code",
   "execution_count": 659,
   "metadata": {
    "collapsed": false
   },
   "outputs": [
    {
     "name": "stdout",
     "output_type": "stream",
     "text": [
      "insert into `%s` (word, wordOfClass, stemmedWord, lowerCasedStemmedWord, owner) values(%s, %s, %s, %s, %s)\n"
     ]
    }
   ],
   "source": [
    "sql_insert = \"insert into `%s` (word, wordOfClass, stemmedWord, lowerCasedStemmedWord, owner) values(%s, %s, %s, %s, %s)\"\n",
    "print sql_insert"
   ]
  },
  {
   "cell_type": "code",
   "execution_count": 660,
   "metadata": {
    "collapsed": false
   },
   "outputs": [],
   "source": [
    "for aWord in result:\n",
    "    cursor.execute(sql_insert, (fileTableName, aWord[0], aWord[1], aWord[2], aWord[3], fileRoot))\n",
    "connection.commit()"
   ]
  },
  {
   "cell_type": "code",
   "execution_count": 661,
   "metadata": {
    "collapsed": true
   },
   "outputs": [],
   "source": [
    "f.close()"
   ]
  },
  {
   "cell_type": "code",
   "execution_count": null,
   "metadata": {
    "collapsed": true
   },
   "outputs": [],
   "source": []
  }
 ],
 "metadata": {
  "kernelspec": {
   "display_name": "Python 2",
   "language": "python",
   "name": "python2"
  },
  "language_info": {
   "codemirror_mode": {
    "name": "ipython",
    "version": 2
   },
   "file_extension": ".py",
   "mimetype": "text/x-python",
   "name": "python",
   "nbconvert_exporter": "python",
   "pygments_lexer": "ipython2",
   "version": "2.7.11"
  }
 },
 "nbformat": 4,
 "nbformat_minor": 0
}
