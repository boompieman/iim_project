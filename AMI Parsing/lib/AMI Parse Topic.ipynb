{
 "cells": [
  {
   "cell_type": "code",
   "execution_count": 61,
   "metadata": {
    "collapsed": false
   },
   "outputs": [],
   "source": [
    "#coding=utf-8\n",
    "# Topic Parser\n",
    "# Description:\n",
    "#    而每一份中會有數個會議檔案，用小寫編號 eg. ES2002a, ES2002b...\n",
    "#    每個檔案中會有數個人講話，用大寫編號 eg. A, B, C...\n",
    "# Usage:\n",
    "#    輸入欲分析的檔案，一直按指令即可"
   ]
  },
  {
   "cell_type": "code",
   "execution_count": 62,
   "metadata": {
    "collapsed": true
   },
   "outputs": [],
   "source": [
    "import xml.etree.ElementTree as ET"
   ]
  },
  {
   "cell_type": "code",
   "execution_count": 99,
   "metadata": {
    "collapsed": true
   },
   "outputs": [],
   "source": [
    "filePrefix = 'ES2015b'"
   ]
  },
  {
   "cell_type": "code",
   "execution_count": 100,
   "metadata": {
    "collapsed": true
   },
   "outputs": [],
   "source": [
    "fileRoot = filePrefix + '.topic'"
   ]
  },
  {
   "cell_type": "code",
   "execution_count": 101,
   "metadata": {
    "collapsed": false
   },
   "outputs": [],
   "source": [
    "fileName= '../AMI_corpus_resources/topics/' + fileRoot + '.xml'"
   ]
  },
  {
   "cell_type": "code",
   "execution_count": 102,
   "metadata": {
    "collapsed": false
   },
   "outputs": [
    {
     "ename": "IOError",
     "evalue": "[Errno 2] No such file or directory: '../AMI_corpus_resources/topics/ES2015b.topic.xml'",
     "output_type": "error",
     "traceback": [
      "\u001b[0;31m---------------------------------------------------------------------------\u001b[0m",
      "\u001b[0;31mIOError\u001b[0m                                   Traceback (most recent call last)",
      "\u001b[0;32m<ipython-input-102-d1dcd6c4118d>\u001b[0m in \u001b[0;36m<module>\u001b[0;34m()\u001b[0m\n\u001b[0;32m----> 1\u001b[0;31m \u001b[0mtree\u001b[0m \u001b[0;34m=\u001b[0m \u001b[0mET\u001b[0m\u001b[0;34m.\u001b[0m\u001b[0mparse\u001b[0m\u001b[0;34m(\u001b[0m\u001b[0mfileName\u001b[0m\u001b[0;34m)\u001b[0m\u001b[0;34m\u001b[0m\u001b[0m\n\u001b[0m",
      "\u001b[0;32m/Users/makris/anaconda/lib/python2.7/xml/etree/ElementTree.pyc\u001b[0m in \u001b[0;36mparse\u001b[0;34m(source, parser)\u001b[0m\n\u001b[1;32m   1180\u001b[0m \u001b[0;32mdef\u001b[0m \u001b[0mparse\u001b[0m\u001b[0;34m(\u001b[0m\u001b[0msource\u001b[0m\u001b[0;34m,\u001b[0m \u001b[0mparser\u001b[0m\u001b[0;34m=\u001b[0m\u001b[0mNone\u001b[0m\u001b[0;34m)\u001b[0m\u001b[0;34m:\u001b[0m\u001b[0;34m\u001b[0m\u001b[0m\n\u001b[1;32m   1181\u001b[0m     \u001b[0mtree\u001b[0m \u001b[0;34m=\u001b[0m \u001b[0mElementTree\u001b[0m\u001b[0;34m(\u001b[0m\u001b[0;34m)\u001b[0m\u001b[0;34m\u001b[0m\u001b[0m\n\u001b[0;32m-> 1182\u001b[0;31m     \u001b[0mtree\u001b[0m\u001b[0;34m.\u001b[0m\u001b[0mparse\u001b[0m\u001b[0;34m(\u001b[0m\u001b[0msource\u001b[0m\u001b[0;34m,\u001b[0m \u001b[0mparser\u001b[0m\u001b[0;34m)\u001b[0m\u001b[0;34m\u001b[0m\u001b[0m\n\u001b[0m\u001b[1;32m   1183\u001b[0m     \u001b[0;32mreturn\u001b[0m \u001b[0mtree\u001b[0m\u001b[0;34m\u001b[0m\u001b[0m\n\u001b[1;32m   1184\u001b[0m \u001b[0;34m\u001b[0m\u001b[0m\n",
      "\u001b[0;32m/Users/makris/anaconda/lib/python2.7/xml/etree/ElementTree.pyc\u001b[0m in \u001b[0;36mparse\u001b[0;34m(self, source, parser)\u001b[0m\n\u001b[1;32m    645\u001b[0m         \u001b[0mclose_source\u001b[0m \u001b[0;34m=\u001b[0m \u001b[0mFalse\u001b[0m\u001b[0;34m\u001b[0m\u001b[0m\n\u001b[1;32m    646\u001b[0m         \u001b[0;32mif\u001b[0m \u001b[0;32mnot\u001b[0m \u001b[0mhasattr\u001b[0m\u001b[0;34m(\u001b[0m\u001b[0msource\u001b[0m\u001b[0;34m,\u001b[0m \u001b[0;34m\"read\"\u001b[0m\u001b[0;34m)\u001b[0m\u001b[0;34m:\u001b[0m\u001b[0;34m\u001b[0m\u001b[0m\n\u001b[0;32m--> 647\u001b[0;31m             \u001b[0msource\u001b[0m \u001b[0;34m=\u001b[0m \u001b[0mopen\u001b[0m\u001b[0;34m(\u001b[0m\u001b[0msource\u001b[0m\u001b[0;34m,\u001b[0m \u001b[0;34m\"rb\"\u001b[0m\u001b[0;34m)\u001b[0m\u001b[0;34m\u001b[0m\u001b[0m\n\u001b[0m\u001b[1;32m    648\u001b[0m             \u001b[0mclose_source\u001b[0m \u001b[0;34m=\u001b[0m \u001b[0mTrue\u001b[0m\u001b[0;34m\u001b[0m\u001b[0m\n\u001b[1;32m    649\u001b[0m         \u001b[0;32mtry\u001b[0m\u001b[0;34m:\u001b[0m\u001b[0;34m\u001b[0m\u001b[0m\n",
      "\u001b[0;31mIOError\u001b[0m: [Errno 2] No such file or directory: '../AMI_corpus_resources/topics/ES2015b.topic.xml'"
     ]
    }
   ],
   "source": [
    "tree = ET.parse(fileName)"
   ]
  },
  {
   "cell_type": "code",
   "execution_count": 103,
   "metadata": {
    "collapsed": true
   },
   "outputs": [],
   "source": [
    "root = tree.getroot()"
   ]
  },
  {
   "cell_type": "code",
   "execution_count": 104,
   "metadata": {
    "collapsed": true
   },
   "outputs": [],
   "source": [
    "idName = '{http://nite.sourceforge.net/}id'"
   ]
  },
  {
   "cell_type": "code",
   "execution_count": 105,
   "metadata": {
    "collapsed": true
   },
   "outputs": [],
   "source": [
    "import re # regrssion expression"
   ]
  },
  {
   "cell_type": "code",
   "execution_count": 94,
   "metadata": {
    "collapsed": false
   },
   "outputs": [],
   "source": [
    "# find complete matched content\n",
    "def findTotalWord(totalContent):\n",
    "    pattern = 'id\\((\\w+\\.\\w\\.\\w+)\\)'\n",
    "    matched = re.findall(pattern, totalContent)\n",
    "    return matched"
   ]
  },
  {
   "cell_type": "code",
   "execution_count": 95,
   "metadata": {
    "collapsed": false
   },
   "outputs": [],
   "source": [
    "# print word indexes\n",
    "def getWordIndex(matched):\n",
    "    wordList = []\n",
    "    if len(matched) == 1:\n",
    "        wordList.append(matched[0])\n",
    "    else:\n",
    "        # parse the word index\n",
    "        start = matched[0]\n",
    "        end = matched[1]\n",
    "        pattern = '\\d+'\n",
    "        startIndexes = re.findall(pattern, start)\n",
    "        endIndexes = re.findall(pattern, end)\n",
    "        startWordIndex = startIndexes[1]\n",
    "        endWordIndex = endIndexes[1]\n",
    "\n",
    "        # find the prefix # eg. ES2002a.B.words\n",
    "        prefixPattern = '\\D+\\d+\\D\\.\\D+\\.\\D+'\n",
    "        prefix = re.match(prefixPattern, start)\n",
    "        prefixStr = prefix.group(0)\n",
    "        \n",
    "        # conbine the prefix and the word index\n",
    "        for index in range(int(startWordIndex), int(endWordIndex) + 1):\n",
    "             wordList.append(prefixStr + str(index))\n",
    "    return wordList"
   ]
  },
  {
   "cell_type": "code",
   "execution_count": 96,
   "metadata": {
    "collapsed": false
   },
   "outputs": [],
   "source": [
    "# content\n",
    "totalContents = []\n",
    "aTopicDic = {}\n",
    "for topic in root.iter('topic'):\n",
    "    topicDescription = topic.get('other_description')\n",
    "    topicID = topic.get(idName)  # get: find attribute's content\n",
    "    \n",
    "    # check the description and ID exists\n",
    "    if topicDescription:\n",
    "        aTopicDic['topicDescription'] = topicDescription\n",
    "    if topicID:\n",
    "        aTopicDic['topicID'] = topicID\n",
    "    \n",
    "    # join matched indexes of words\n",
    "    matchWordsIndexes = []\n",
    "    for child in topic.iter('{http://nite.sourceforge.net/}child'):\n",
    "        href = child.get('href')\n",
    "        totalWordStr = findTotalWord(href)\n",
    "        \n",
    "        tempWordIndexes = getWordIndex(totalWordStr)\n",
    "        for wordIndex in range(len(tempWordIndexes)):\n",
    "            matchWordsIndexes.append(tempWordIndexes[wordIndex])\n",
    "        \n",
    "    # store the match words indexes to aTopicDic\n",
    "    aTopicDic['wordsIndexes'] = matchWordsIndexes\n",
    "    \n",
    "    # store retrieved dict to array\n",
    "    totalContents.append(aTopicDic)"
   ]
  },
  {
   "cell_type": "code",
   "execution_count": 97,
   "metadata": {
    "collapsed": false
   },
   "outputs": [
    {
     "name": "stdout",
     "output_type": "stream",
     "text": [
      "[{'topicID': 'ES2015a.topic.elana.8', 'wordsIndexes': ['ES2015a.A.words1411', 'ES2015a.A.words1412', 'ES2015a.A.words1413', 'ES2015a.A.words1414', 'ES2015a.A.words1415', 'ES2015a.A.words1416', 'ES2015a.A.words1417', 'ES2015a.A.words1418', 'ES2015a.A.words1419', 'ES2015a.A.words1420', 'ES2015a.A.words1421', 'ES2015a.A.words1422', 'ES2015a.A.words1423', 'ES2015a.A.words1424', 'ES2015a.A.words1425', 'ES2015a.A.words1426', 'ES2015a.A.words1427', 'ES2015a.A.words1428', 'ES2015a.A.words1429', 'ES2015a.A.words1430', 'ES2015a.A.words1431', 'ES2015a.A.words1432', 'ES2015a.A.words1433', 'ES2015a.A.words1434', 'ES2015a.A.words1435', 'ES2015a.A.words1436', 'ES2015a.A.words1437', 'ES2015a.A.words1438', 'ES2015a.A.words1439', 'ES2015a.A.words1440', 'ES2015a.A.words1441', 'ES2015a.A.words1442', 'ES2015a.A.words1443', 'ES2015a.A.words1444', 'ES2015a.A.words1445', 'ES2015a.A.words1446', 'ES2015a.A.words1447', 'ES2015a.A.words1448', 'ES2015a.A.words1449', 'ES2015a.A.words1450', 'ES2015a.A.words1451', 'ES2015a.A.words1452', 'ES2015a.A.words1453', 'ES2015a.A.words1454', 'ES2015a.A.words1455', 'ES2015a.A.words1456', 'ES2015a.A.words1457', 'ES2015a.A.words1458', 'ES2015a.A.words1459', 'ES2015a.A.words1460', 'ES2015a.A.words1461', 'ES2015a.A.words1462', 'ES2015a.A.words1463', 'ES2015a.A.words1464', 'ES2015a.A.words1465', 'ES2015a.A.words1466', 'ES2015a.A.words1467', 'ES2015a.A.words1468', 'ES2015a.A.words1469', 'ES2015a.A.words1470', 'ES2015a.A.words1471', 'ES2015a.A.words1472', 'ES2015a.A.words1473', 'ES2015a.A.words1474', 'ES2015a.A.words1475', 'ES2015a.A.words1476', 'ES2015a.A.words1477', 'ES2015a.A.words1478', 'ES2015a.A.words1479', 'ES2015a.A.words1480', 'ES2015a.A.words1481', 'ES2015a.A.words1482', 'ES2015a.A.words1483', 'ES2015a.A.words1484', 'ES2015a.A.words1485', 'ES2015a.A.words1486', 'ES2015a.A.words1487', 'ES2015a.A.words1488', 'ES2015a.A.words1489', 'ES2015a.A.words1490', 'ES2015a.A.words1491', 'ES2015a.A.words1492', 'ES2015a.A.words1493', 'ES2015a.A.words1494', 'ES2015a.A.words1495', 'ES2015a.A.words1496', 'ES2015a.A.words1497', 'ES2015a.A.words1498', 'ES2015a.B.words614', 'ES2015a.B.words615', 'ES2015a.D.words506', 'ES2015a.D.words507', 'ES2015a.D.words508', 'ES2015a.D.words509', 'ES2015a.D.words510', 'ES2015a.D.words511', 'ES2015a.B.words616', 'ES2015a.B.words617', 'ES2015a.B.words618', 'ES2015a.B.words619', 'ES2015a.B.words620', 'ES2015a.B.words621', 'ES2015a.B.words622', 'ES2015a.A.words1499', 'ES2015a.A.words1500', 'ES2015a.A.words1501', 'ES2015a.A.words1502', 'ES2015a.A.words1503', 'ES2015a.A.words1504', 'ES2015a.A.words1505', 'ES2015a.A.words1506', 'ES2015a.A.words1507', 'ES2015a.A.words1508', 'ES2015a.A.words1509', 'ES2015a.A.words1510', 'ES2015a.A.words1511', 'ES2015a.A.words1512', 'ES2015a.A.words1513', 'ES2015a.A.words1514', 'ES2015a.A.words1515', 'ES2015a.A.words1516', 'ES2015a.A.words1517', 'ES2015a.A.words1518', 'ES2015a.A.words1519', 'ES2015a.A.words1520', 'ES2015a.A.words1521', 'ES2015a.A.words1522', 'ES2015a.A.words1523', 'ES2015a.A.words1524', 'ES2015a.A.words1525', 'ES2015a.A.words1526', 'ES2015a.A.words1527', 'ES2015a.A.words1528', 'ES2015a.A.words1529', 'ES2015a.A.words1530', 'ES2015a.A.words1531', 'ES2015a.A.words1532', 'ES2015a.A.words1533', 'ES2015a.A.words1534', 'ES2015a.A.words1535', 'ES2015a.A.words1536', 'ES2015a.A.words1537', 'ES2015a.A.words1538', 'ES2015a.A.words1539', 'ES2015a.A.words1540', 'ES2015a.A.words1541', 'ES2015a.A.words1542', 'ES2015a.A.words1543', 'ES2015a.A.words1544', 'ES2015a.A.words1545', 'ES2015a.A.words1546', 'ES2015a.A.words1547', 'ES2015a.A.words1548', 'ES2015a.A.words1549', 'ES2015a.A.words1550', 'ES2015a.A.words1551', 'ES2015a.A.words1552', 'ES2015a.A.words1553', 'ES2015a.A.words1554', 'ES2015a.A.words1555', 'ES2015a.A.words1556', 'ES2015a.A.words1557', 'ES2015a.A.words1558', 'ES2015a.A.words1559', 'ES2015a.A.words1560', 'ES2015a.A.words1561', 'ES2015a.A.words1562', 'ES2015a.A.words1563', 'ES2015a.A.words1564', 'ES2015a.A.words1565', 'ES2015a.A.words1566', 'ES2015a.A.words1567', 'ES2015a.A.words1568', 'ES2015a.A.words1569', 'ES2015a.A.words1570', 'ES2015a.A.words1571', 'ES2015a.A.words1572', 'ES2015a.A.words1573', 'ES2015a.A.words1574', 'ES2015a.A.words1575', 'ES2015a.A.words1576', 'ES2015a.A.words1577', 'ES2015a.A.words1578', 'ES2015a.A.words1579', 'ES2015a.A.words1580', 'ES2015a.A.words1581', 'ES2015a.A.words1582', 'ES2015a.A.words1583', 'ES2015a.A.words1584', 'ES2015a.A.words1585', 'ES2015a.A.words1586', 'ES2015a.A.words1587', 'ES2015a.A.words1588', 'ES2015a.A.words1589', 'ES2015a.A.words1590', 'ES2015a.A.words1591', 'ES2015a.A.words1592', 'ES2015a.A.words1593', 'ES2015a.A.words1594', 'ES2015a.A.words1595', 'ES2015a.A.words1596', 'ES2015a.B.words623', 'ES2015a.B.words624', 'ES2015a.D.words512', 'ES2015a.D.words513', 'ES2015a.D.words514', 'ES2015a.D.words515', 'ES2015a.B.words625', 'ES2015a.B.words626', 'ES2015a.B.words627', 'ES2015a.B.words628', 'ES2015a.B.words629', 'ES2015a.C.words391']}, {'topicID': 'ES2015a.topic.elana.8', 'wordsIndexes': ['ES2015a.A.words1411', 'ES2015a.A.words1412', 'ES2015a.A.words1413', 'ES2015a.A.words1414', 'ES2015a.A.words1415', 'ES2015a.A.words1416', 'ES2015a.A.words1417', 'ES2015a.A.words1418', 'ES2015a.A.words1419', 'ES2015a.A.words1420', 'ES2015a.A.words1421', 'ES2015a.A.words1422', 'ES2015a.A.words1423', 'ES2015a.A.words1424', 'ES2015a.A.words1425', 'ES2015a.A.words1426', 'ES2015a.A.words1427', 'ES2015a.A.words1428', 'ES2015a.A.words1429', 'ES2015a.A.words1430', 'ES2015a.A.words1431', 'ES2015a.A.words1432', 'ES2015a.A.words1433', 'ES2015a.A.words1434', 'ES2015a.A.words1435', 'ES2015a.A.words1436', 'ES2015a.A.words1437', 'ES2015a.A.words1438', 'ES2015a.A.words1439', 'ES2015a.A.words1440', 'ES2015a.A.words1441', 'ES2015a.A.words1442', 'ES2015a.A.words1443', 'ES2015a.A.words1444', 'ES2015a.A.words1445', 'ES2015a.A.words1446', 'ES2015a.A.words1447', 'ES2015a.A.words1448', 'ES2015a.A.words1449', 'ES2015a.A.words1450', 'ES2015a.A.words1451', 'ES2015a.A.words1452', 'ES2015a.A.words1453', 'ES2015a.A.words1454', 'ES2015a.A.words1455', 'ES2015a.A.words1456', 'ES2015a.A.words1457', 'ES2015a.A.words1458', 'ES2015a.A.words1459', 'ES2015a.A.words1460', 'ES2015a.A.words1461', 'ES2015a.A.words1462', 'ES2015a.A.words1463', 'ES2015a.A.words1464', 'ES2015a.A.words1465', 'ES2015a.A.words1466', 'ES2015a.A.words1467', 'ES2015a.A.words1468', 'ES2015a.A.words1469', 'ES2015a.A.words1470', 'ES2015a.A.words1471', 'ES2015a.A.words1472', 'ES2015a.A.words1473', 'ES2015a.A.words1474', 'ES2015a.A.words1475', 'ES2015a.A.words1476', 'ES2015a.A.words1477', 'ES2015a.A.words1478', 'ES2015a.A.words1479', 'ES2015a.A.words1480', 'ES2015a.A.words1481', 'ES2015a.A.words1482', 'ES2015a.A.words1483', 'ES2015a.A.words1484', 'ES2015a.A.words1485', 'ES2015a.A.words1486', 'ES2015a.A.words1487', 'ES2015a.A.words1488', 'ES2015a.A.words1489', 'ES2015a.A.words1490', 'ES2015a.A.words1491', 'ES2015a.A.words1492', 'ES2015a.A.words1493', 'ES2015a.A.words1494', 'ES2015a.A.words1495', 'ES2015a.A.words1496', 'ES2015a.A.words1497', 'ES2015a.A.words1498', 'ES2015a.B.words614', 'ES2015a.B.words615', 'ES2015a.D.words506', 'ES2015a.D.words507', 'ES2015a.D.words508', 'ES2015a.D.words509', 'ES2015a.D.words510', 'ES2015a.D.words511', 'ES2015a.B.words616', 'ES2015a.B.words617', 'ES2015a.B.words618', 'ES2015a.B.words619', 'ES2015a.B.words620', 'ES2015a.B.words621', 'ES2015a.B.words622', 'ES2015a.A.words1499', 'ES2015a.A.words1500', 'ES2015a.A.words1501', 'ES2015a.A.words1502', 'ES2015a.A.words1503', 'ES2015a.A.words1504', 'ES2015a.A.words1505', 'ES2015a.A.words1506', 'ES2015a.A.words1507', 'ES2015a.A.words1508', 'ES2015a.A.words1509', 'ES2015a.A.words1510', 'ES2015a.A.words1511', 'ES2015a.A.words1512', 'ES2015a.A.words1513', 'ES2015a.A.words1514', 'ES2015a.A.words1515', 'ES2015a.A.words1516', 'ES2015a.A.words1517', 'ES2015a.A.words1518', 'ES2015a.A.words1519', 'ES2015a.A.words1520', 'ES2015a.A.words1521', 'ES2015a.A.words1522', 'ES2015a.A.words1523', 'ES2015a.A.words1524', 'ES2015a.A.words1525', 'ES2015a.A.words1526', 'ES2015a.A.words1527', 'ES2015a.A.words1528', 'ES2015a.A.words1529', 'ES2015a.A.words1530', 'ES2015a.A.words1531', 'ES2015a.A.words1532', 'ES2015a.A.words1533', 'ES2015a.A.words1534', 'ES2015a.A.words1535', 'ES2015a.A.words1536', 'ES2015a.A.words1537', 'ES2015a.A.words1538', 'ES2015a.A.words1539', 'ES2015a.A.words1540', 'ES2015a.A.words1541', 'ES2015a.A.words1542', 'ES2015a.A.words1543', 'ES2015a.A.words1544', 'ES2015a.A.words1545', 'ES2015a.A.words1546', 'ES2015a.A.words1547', 'ES2015a.A.words1548', 'ES2015a.A.words1549', 'ES2015a.A.words1550', 'ES2015a.A.words1551', 'ES2015a.A.words1552', 'ES2015a.A.words1553', 'ES2015a.A.words1554', 'ES2015a.A.words1555', 'ES2015a.A.words1556', 'ES2015a.A.words1557', 'ES2015a.A.words1558', 'ES2015a.A.words1559', 'ES2015a.A.words1560', 'ES2015a.A.words1561', 'ES2015a.A.words1562', 'ES2015a.A.words1563', 'ES2015a.A.words1564', 'ES2015a.A.words1565', 'ES2015a.A.words1566', 'ES2015a.A.words1567', 'ES2015a.A.words1568', 'ES2015a.A.words1569', 'ES2015a.A.words1570', 'ES2015a.A.words1571', 'ES2015a.A.words1572', 'ES2015a.A.words1573', 'ES2015a.A.words1574', 'ES2015a.A.words1575', 'ES2015a.A.words1576', 'ES2015a.A.words1577', 'ES2015a.A.words1578', 'ES2015a.A.words1579', 'ES2015a.A.words1580', 'ES2015a.A.words1581', 'ES2015a.A.words1582', 'ES2015a.A.words1583', 'ES2015a.A.words1584', 'ES2015a.A.words1585', 'ES2015a.A.words1586', 'ES2015a.A.words1587', 'ES2015a.A.words1588', 'ES2015a.A.words1589', 'ES2015a.A.words1590', 'ES2015a.A.words1591', 'ES2015a.A.words1592', 'ES2015a.A.words1593', 'ES2015a.A.words1594', 'ES2015a.A.words1595', 'ES2015a.A.words1596', 'ES2015a.B.words623', 'ES2015a.B.words624', 'ES2015a.D.words512', 'ES2015a.D.words513', 'ES2015a.D.words514', 'ES2015a.D.words515', 'ES2015a.B.words625', 'ES2015a.B.words626', 'ES2015a.B.words627', 'ES2015a.B.words628', 'ES2015a.B.words629', 'ES2015a.C.words391']}, {'topicID': 'ES2015a.topic.elana.8', 'wordsIndexes': ['ES2015a.A.words1411', 'ES2015a.A.words1412', 'ES2015a.A.words1413', 'ES2015a.A.words1414', 'ES2015a.A.words1415', 'ES2015a.A.words1416', 'ES2015a.A.words1417', 'ES2015a.A.words1418', 'ES2015a.A.words1419', 'ES2015a.A.words1420', 'ES2015a.A.words1421', 'ES2015a.A.words1422', 'ES2015a.A.words1423', 'ES2015a.A.words1424', 'ES2015a.A.words1425', 'ES2015a.A.words1426', 'ES2015a.A.words1427', 'ES2015a.A.words1428', 'ES2015a.A.words1429', 'ES2015a.A.words1430', 'ES2015a.A.words1431', 'ES2015a.A.words1432', 'ES2015a.A.words1433', 'ES2015a.A.words1434', 'ES2015a.A.words1435', 'ES2015a.A.words1436', 'ES2015a.A.words1437', 'ES2015a.A.words1438', 'ES2015a.A.words1439', 'ES2015a.A.words1440', 'ES2015a.A.words1441', 'ES2015a.A.words1442', 'ES2015a.A.words1443', 'ES2015a.A.words1444', 'ES2015a.A.words1445', 'ES2015a.A.words1446', 'ES2015a.A.words1447', 'ES2015a.A.words1448', 'ES2015a.A.words1449', 'ES2015a.A.words1450', 'ES2015a.A.words1451', 'ES2015a.A.words1452', 'ES2015a.A.words1453', 'ES2015a.A.words1454', 'ES2015a.A.words1455', 'ES2015a.A.words1456', 'ES2015a.A.words1457', 'ES2015a.A.words1458', 'ES2015a.A.words1459', 'ES2015a.A.words1460', 'ES2015a.A.words1461', 'ES2015a.A.words1462', 'ES2015a.A.words1463', 'ES2015a.A.words1464', 'ES2015a.A.words1465', 'ES2015a.A.words1466', 'ES2015a.A.words1467', 'ES2015a.A.words1468', 'ES2015a.A.words1469', 'ES2015a.A.words1470', 'ES2015a.A.words1471', 'ES2015a.A.words1472', 'ES2015a.A.words1473', 'ES2015a.A.words1474', 'ES2015a.A.words1475', 'ES2015a.A.words1476', 'ES2015a.A.words1477', 'ES2015a.A.words1478', 'ES2015a.A.words1479', 'ES2015a.A.words1480', 'ES2015a.A.words1481', 'ES2015a.A.words1482', 'ES2015a.A.words1483', 'ES2015a.A.words1484', 'ES2015a.A.words1485', 'ES2015a.A.words1486', 'ES2015a.A.words1487', 'ES2015a.A.words1488', 'ES2015a.A.words1489', 'ES2015a.A.words1490', 'ES2015a.A.words1491', 'ES2015a.A.words1492', 'ES2015a.A.words1493', 'ES2015a.A.words1494', 'ES2015a.A.words1495', 'ES2015a.A.words1496', 'ES2015a.A.words1497', 'ES2015a.A.words1498', 'ES2015a.B.words614', 'ES2015a.B.words615', 'ES2015a.D.words506', 'ES2015a.D.words507', 'ES2015a.D.words508', 'ES2015a.D.words509', 'ES2015a.D.words510', 'ES2015a.D.words511', 'ES2015a.B.words616', 'ES2015a.B.words617', 'ES2015a.B.words618', 'ES2015a.B.words619', 'ES2015a.B.words620', 'ES2015a.B.words621', 'ES2015a.B.words622', 'ES2015a.A.words1499', 'ES2015a.A.words1500', 'ES2015a.A.words1501', 'ES2015a.A.words1502', 'ES2015a.A.words1503', 'ES2015a.A.words1504', 'ES2015a.A.words1505', 'ES2015a.A.words1506', 'ES2015a.A.words1507', 'ES2015a.A.words1508', 'ES2015a.A.words1509', 'ES2015a.A.words1510', 'ES2015a.A.words1511', 'ES2015a.A.words1512', 'ES2015a.A.words1513', 'ES2015a.A.words1514', 'ES2015a.A.words1515', 'ES2015a.A.words1516', 'ES2015a.A.words1517', 'ES2015a.A.words1518', 'ES2015a.A.words1519', 'ES2015a.A.words1520', 'ES2015a.A.words1521', 'ES2015a.A.words1522', 'ES2015a.A.words1523', 'ES2015a.A.words1524', 'ES2015a.A.words1525', 'ES2015a.A.words1526', 'ES2015a.A.words1527', 'ES2015a.A.words1528', 'ES2015a.A.words1529', 'ES2015a.A.words1530', 'ES2015a.A.words1531', 'ES2015a.A.words1532', 'ES2015a.A.words1533', 'ES2015a.A.words1534', 'ES2015a.A.words1535', 'ES2015a.A.words1536', 'ES2015a.A.words1537', 'ES2015a.A.words1538', 'ES2015a.A.words1539', 'ES2015a.A.words1540', 'ES2015a.A.words1541', 'ES2015a.A.words1542', 'ES2015a.A.words1543', 'ES2015a.A.words1544', 'ES2015a.A.words1545', 'ES2015a.A.words1546', 'ES2015a.A.words1547', 'ES2015a.A.words1548', 'ES2015a.A.words1549', 'ES2015a.A.words1550', 'ES2015a.A.words1551', 'ES2015a.A.words1552', 'ES2015a.A.words1553', 'ES2015a.A.words1554', 'ES2015a.A.words1555', 'ES2015a.A.words1556', 'ES2015a.A.words1557', 'ES2015a.A.words1558', 'ES2015a.A.words1559', 'ES2015a.A.words1560', 'ES2015a.A.words1561', 'ES2015a.A.words1562', 'ES2015a.A.words1563', 'ES2015a.A.words1564', 'ES2015a.A.words1565', 'ES2015a.A.words1566', 'ES2015a.A.words1567', 'ES2015a.A.words1568', 'ES2015a.A.words1569', 'ES2015a.A.words1570', 'ES2015a.A.words1571', 'ES2015a.A.words1572', 'ES2015a.A.words1573', 'ES2015a.A.words1574', 'ES2015a.A.words1575', 'ES2015a.A.words1576', 'ES2015a.A.words1577', 'ES2015a.A.words1578', 'ES2015a.A.words1579', 'ES2015a.A.words1580', 'ES2015a.A.words1581', 'ES2015a.A.words1582', 'ES2015a.A.words1583', 'ES2015a.A.words1584', 'ES2015a.A.words1585', 'ES2015a.A.words1586', 'ES2015a.A.words1587', 'ES2015a.A.words1588', 'ES2015a.A.words1589', 'ES2015a.A.words1590', 'ES2015a.A.words1591', 'ES2015a.A.words1592', 'ES2015a.A.words1593', 'ES2015a.A.words1594', 'ES2015a.A.words1595', 'ES2015a.A.words1596', 'ES2015a.B.words623', 'ES2015a.B.words624', 'ES2015a.D.words512', 'ES2015a.D.words513', 'ES2015a.D.words514', 'ES2015a.D.words515', 'ES2015a.B.words625', 'ES2015a.B.words626', 'ES2015a.B.words627', 'ES2015a.B.words628', 'ES2015a.B.words629', 'ES2015a.C.words391']}, {'topicID': 'ES2015a.topic.elana.8', 'wordsIndexes': ['ES2015a.A.words1411', 'ES2015a.A.words1412', 'ES2015a.A.words1413', 'ES2015a.A.words1414', 'ES2015a.A.words1415', 'ES2015a.A.words1416', 'ES2015a.A.words1417', 'ES2015a.A.words1418', 'ES2015a.A.words1419', 'ES2015a.A.words1420', 'ES2015a.A.words1421', 'ES2015a.A.words1422', 'ES2015a.A.words1423', 'ES2015a.A.words1424', 'ES2015a.A.words1425', 'ES2015a.A.words1426', 'ES2015a.A.words1427', 'ES2015a.A.words1428', 'ES2015a.A.words1429', 'ES2015a.A.words1430', 'ES2015a.A.words1431', 'ES2015a.A.words1432', 'ES2015a.A.words1433', 'ES2015a.A.words1434', 'ES2015a.A.words1435', 'ES2015a.A.words1436', 'ES2015a.A.words1437', 'ES2015a.A.words1438', 'ES2015a.A.words1439', 'ES2015a.A.words1440', 'ES2015a.A.words1441', 'ES2015a.A.words1442', 'ES2015a.A.words1443', 'ES2015a.A.words1444', 'ES2015a.A.words1445', 'ES2015a.A.words1446', 'ES2015a.A.words1447', 'ES2015a.A.words1448', 'ES2015a.A.words1449', 'ES2015a.A.words1450', 'ES2015a.A.words1451', 'ES2015a.A.words1452', 'ES2015a.A.words1453', 'ES2015a.A.words1454', 'ES2015a.A.words1455', 'ES2015a.A.words1456', 'ES2015a.A.words1457', 'ES2015a.A.words1458', 'ES2015a.A.words1459', 'ES2015a.A.words1460', 'ES2015a.A.words1461', 'ES2015a.A.words1462', 'ES2015a.A.words1463', 'ES2015a.A.words1464', 'ES2015a.A.words1465', 'ES2015a.A.words1466', 'ES2015a.A.words1467', 'ES2015a.A.words1468', 'ES2015a.A.words1469', 'ES2015a.A.words1470', 'ES2015a.A.words1471', 'ES2015a.A.words1472', 'ES2015a.A.words1473', 'ES2015a.A.words1474', 'ES2015a.A.words1475', 'ES2015a.A.words1476', 'ES2015a.A.words1477', 'ES2015a.A.words1478', 'ES2015a.A.words1479', 'ES2015a.A.words1480', 'ES2015a.A.words1481', 'ES2015a.A.words1482', 'ES2015a.A.words1483', 'ES2015a.A.words1484', 'ES2015a.A.words1485', 'ES2015a.A.words1486', 'ES2015a.A.words1487', 'ES2015a.A.words1488', 'ES2015a.A.words1489', 'ES2015a.A.words1490', 'ES2015a.A.words1491', 'ES2015a.A.words1492', 'ES2015a.A.words1493', 'ES2015a.A.words1494', 'ES2015a.A.words1495', 'ES2015a.A.words1496', 'ES2015a.A.words1497', 'ES2015a.A.words1498', 'ES2015a.B.words614', 'ES2015a.B.words615', 'ES2015a.D.words506', 'ES2015a.D.words507', 'ES2015a.D.words508', 'ES2015a.D.words509', 'ES2015a.D.words510', 'ES2015a.D.words511', 'ES2015a.B.words616', 'ES2015a.B.words617', 'ES2015a.B.words618', 'ES2015a.B.words619', 'ES2015a.B.words620', 'ES2015a.B.words621', 'ES2015a.B.words622', 'ES2015a.A.words1499', 'ES2015a.A.words1500', 'ES2015a.A.words1501', 'ES2015a.A.words1502', 'ES2015a.A.words1503', 'ES2015a.A.words1504', 'ES2015a.A.words1505', 'ES2015a.A.words1506', 'ES2015a.A.words1507', 'ES2015a.A.words1508', 'ES2015a.A.words1509', 'ES2015a.A.words1510', 'ES2015a.A.words1511', 'ES2015a.A.words1512', 'ES2015a.A.words1513', 'ES2015a.A.words1514', 'ES2015a.A.words1515', 'ES2015a.A.words1516', 'ES2015a.A.words1517', 'ES2015a.A.words1518', 'ES2015a.A.words1519', 'ES2015a.A.words1520', 'ES2015a.A.words1521', 'ES2015a.A.words1522', 'ES2015a.A.words1523', 'ES2015a.A.words1524', 'ES2015a.A.words1525', 'ES2015a.A.words1526', 'ES2015a.A.words1527', 'ES2015a.A.words1528', 'ES2015a.A.words1529', 'ES2015a.A.words1530', 'ES2015a.A.words1531', 'ES2015a.A.words1532', 'ES2015a.A.words1533', 'ES2015a.A.words1534', 'ES2015a.A.words1535', 'ES2015a.A.words1536', 'ES2015a.A.words1537', 'ES2015a.A.words1538', 'ES2015a.A.words1539', 'ES2015a.A.words1540', 'ES2015a.A.words1541', 'ES2015a.A.words1542', 'ES2015a.A.words1543', 'ES2015a.A.words1544', 'ES2015a.A.words1545', 'ES2015a.A.words1546', 'ES2015a.A.words1547', 'ES2015a.A.words1548', 'ES2015a.A.words1549', 'ES2015a.A.words1550', 'ES2015a.A.words1551', 'ES2015a.A.words1552', 'ES2015a.A.words1553', 'ES2015a.A.words1554', 'ES2015a.A.words1555', 'ES2015a.A.words1556', 'ES2015a.A.words1557', 'ES2015a.A.words1558', 'ES2015a.A.words1559', 'ES2015a.A.words1560', 'ES2015a.A.words1561', 'ES2015a.A.words1562', 'ES2015a.A.words1563', 'ES2015a.A.words1564', 'ES2015a.A.words1565', 'ES2015a.A.words1566', 'ES2015a.A.words1567', 'ES2015a.A.words1568', 'ES2015a.A.words1569', 'ES2015a.A.words1570', 'ES2015a.A.words1571', 'ES2015a.A.words1572', 'ES2015a.A.words1573', 'ES2015a.A.words1574', 'ES2015a.A.words1575', 'ES2015a.A.words1576', 'ES2015a.A.words1577', 'ES2015a.A.words1578', 'ES2015a.A.words1579', 'ES2015a.A.words1580', 'ES2015a.A.words1581', 'ES2015a.A.words1582', 'ES2015a.A.words1583', 'ES2015a.A.words1584', 'ES2015a.A.words1585', 'ES2015a.A.words1586', 'ES2015a.A.words1587', 'ES2015a.A.words1588', 'ES2015a.A.words1589', 'ES2015a.A.words1590', 'ES2015a.A.words1591', 'ES2015a.A.words1592', 'ES2015a.A.words1593', 'ES2015a.A.words1594', 'ES2015a.A.words1595', 'ES2015a.A.words1596', 'ES2015a.B.words623', 'ES2015a.B.words624', 'ES2015a.D.words512', 'ES2015a.D.words513', 'ES2015a.D.words514', 'ES2015a.D.words515', 'ES2015a.B.words625', 'ES2015a.B.words626', 'ES2015a.B.words627', 'ES2015a.B.words628', 'ES2015a.B.words629', 'ES2015a.C.words391']}, {'topicID': 'ES2015a.topic.elana.8', 'wordsIndexes': ['ES2015a.A.words1411', 'ES2015a.A.words1412', 'ES2015a.A.words1413', 'ES2015a.A.words1414', 'ES2015a.A.words1415', 'ES2015a.A.words1416', 'ES2015a.A.words1417', 'ES2015a.A.words1418', 'ES2015a.A.words1419', 'ES2015a.A.words1420', 'ES2015a.A.words1421', 'ES2015a.A.words1422', 'ES2015a.A.words1423', 'ES2015a.A.words1424', 'ES2015a.A.words1425', 'ES2015a.A.words1426', 'ES2015a.A.words1427', 'ES2015a.A.words1428', 'ES2015a.A.words1429', 'ES2015a.A.words1430', 'ES2015a.A.words1431', 'ES2015a.A.words1432', 'ES2015a.A.words1433', 'ES2015a.A.words1434', 'ES2015a.A.words1435', 'ES2015a.A.words1436', 'ES2015a.A.words1437', 'ES2015a.A.words1438', 'ES2015a.A.words1439', 'ES2015a.A.words1440', 'ES2015a.A.words1441', 'ES2015a.A.words1442', 'ES2015a.A.words1443', 'ES2015a.A.words1444', 'ES2015a.A.words1445', 'ES2015a.A.words1446', 'ES2015a.A.words1447', 'ES2015a.A.words1448', 'ES2015a.A.words1449', 'ES2015a.A.words1450', 'ES2015a.A.words1451', 'ES2015a.A.words1452', 'ES2015a.A.words1453', 'ES2015a.A.words1454', 'ES2015a.A.words1455', 'ES2015a.A.words1456', 'ES2015a.A.words1457', 'ES2015a.A.words1458', 'ES2015a.A.words1459', 'ES2015a.A.words1460', 'ES2015a.A.words1461', 'ES2015a.A.words1462', 'ES2015a.A.words1463', 'ES2015a.A.words1464', 'ES2015a.A.words1465', 'ES2015a.A.words1466', 'ES2015a.A.words1467', 'ES2015a.A.words1468', 'ES2015a.A.words1469', 'ES2015a.A.words1470', 'ES2015a.A.words1471', 'ES2015a.A.words1472', 'ES2015a.A.words1473', 'ES2015a.A.words1474', 'ES2015a.A.words1475', 'ES2015a.A.words1476', 'ES2015a.A.words1477', 'ES2015a.A.words1478', 'ES2015a.A.words1479', 'ES2015a.A.words1480', 'ES2015a.A.words1481', 'ES2015a.A.words1482', 'ES2015a.A.words1483', 'ES2015a.A.words1484', 'ES2015a.A.words1485', 'ES2015a.A.words1486', 'ES2015a.A.words1487', 'ES2015a.A.words1488', 'ES2015a.A.words1489', 'ES2015a.A.words1490', 'ES2015a.A.words1491', 'ES2015a.A.words1492', 'ES2015a.A.words1493', 'ES2015a.A.words1494', 'ES2015a.A.words1495', 'ES2015a.A.words1496', 'ES2015a.A.words1497', 'ES2015a.A.words1498', 'ES2015a.B.words614', 'ES2015a.B.words615', 'ES2015a.D.words506', 'ES2015a.D.words507', 'ES2015a.D.words508', 'ES2015a.D.words509', 'ES2015a.D.words510', 'ES2015a.D.words511', 'ES2015a.B.words616', 'ES2015a.B.words617', 'ES2015a.B.words618', 'ES2015a.B.words619', 'ES2015a.B.words620', 'ES2015a.B.words621', 'ES2015a.B.words622', 'ES2015a.A.words1499', 'ES2015a.A.words1500', 'ES2015a.A.words1501', 'ES2015a.A.words1502', 'ES2015a.A.words1503', 'ES2015a.A.words1504', 'ES2015a.A.words1505', 'ES2015a.A.words1506', 'ES2015a.A.words1507', 'ES2015a.A.words1508', 'ES2015a.A.words1509', 'ES2015a.A.words1510', 'ES2015a.A.words1511', 'ES2015a.A.words1512', 'ES2015a.A.words1513', 'ES2015a.A.words1514', 'ES2015a.A.words1515', 'ES2015a.A.words1516', 'ES2015a.A.words1517', 'ES2015a.A.words1518', 'ES2015a.A.words1519', 'ES2015a.A.words1520', 'ES2015a.A.words1521', 'ES2015a.A.words1522', 'ES2015a.A.words1523', 'ES2015a.A.words1524', 'ES2015a.A.words1525', 'ES2015a.A.words1526', 'ES2015a.A.words1527', 'ES2015a.A.words1528', 'ES2015a.A.words1529', 'ES2015a.A.words1530', 'ES2015a.A.words1531', 'ES2015a.A.words1532', 'ES2015a.A.words1533', 'ES2015a.A.words1534', 'ES2015a.A.words1535', 'ES2015a.A.words1536', 'ES2015a.A.words1537', 'ES2015a.A.words1538', 'ES2015a.A.words1539', 'ES2015a.A.words1540', 'ES2015a.A.words1541', 'ES2015a.A.words1542', 'ES2015a.A.words1543', 'ES2015a.A.words1544', 'ES2015a.A.words1545', 'ES2015a.A.words1546', 'ES2015a.A.words1547', 'ES2015a.A.words1548', 'ES2015a.A.words1549', 'ES2015a.A.words1550', 'ES2015a.A.words1551', 'ES2015a.A.words1552', 'ES2015a.A.words1553', 'ES2015a.A.words1554', 'ES2015a.A.words1555', 'ES2015a.A.words1556', 'ES2015a.A.words1557', 'ES2015a.A.words1558', 'ES2015a.A.words1559', 'ES2015a.A.words1560', 'ES2015a.A.words1561', 'ES2015a.A.words1562', 'ES2015a.A.words1563', 'ES2015a.A.words1564', 'ES2015a.A.words1565', 'ES2015a.A.words1566', 'ES2015a.A.words1567', 'ES2015a.A.words1568', 'ES2015a.A.words1569', 'ES2015a.A.words1570', 'ES2015a.A.words1571', 'ES2015a.A.words1572', 'ES2015a.A.words1573', 'ES2015a.A.words1574', 'ES2015a.A.words1575', 'ES2015a.A.words1576', 'ES2015a.A.words1577', 'ES2015a.A.words1578', 'ES2015a.A.words1579', 'ES2015a.A.words1580', 'ES2015a.A.words1581', 'ES2015a.A.words1582', 'ES2015a.A.words1583', 'ES2015a.A.words1584', 'ES2015a.A.words1585', 'ES2015a.A.words1586', 'ES2015a.A.words1587', 'ES2015a.A.words1588', 'ES2015a.A.words1589', 'ES2015a.A.words1590', 'ES2015a.A.words1591', 'ES2015a.A.words1592', 'ES2015a.A.words1593', 'ES2015a.A.words1594', 'ES2015a.A.words1595', 'ES2015a.A.words1596', 'ES2015a.B.words623', 'ES2015a.B.words624', 'ES2015a.D.words512', 'ES2015a.D.words513', 'ES2015a.D.words514', 'ES2015a.D.words515', 'ES2015a.B.words625', 'ES2015a.B.words626', 'ES2015a.B.words627', 'ES2015a.B.words628', 'ES2015a.B.words629', 'ES2015a.C.words391']}, {'topicID': 'ES2015a.topic.elana.8', 'wordsIndexes': ['ES2015a.A.words1411', 'ES2015a.A.words1412', 'ES2015a.A.words1413', 'ES2015a.A.words1414', 'ES2015a.A.words1415', 'ES2015a.A.words1416', 'ES2015a.A.words1417', 'ES2015a.A.words1418', 'ES2015a.A.words1419', 'ES2015a.A.words1420', 'ES2015a.A.words1421', 'ES2015a.A.words1422', 'ES2015a.A.words1423', 'ES2015a.A.words1424', 'ES2015a.A.words1425', 'ES2015a.A.words1426', 'ES2015a.A.words1427', 'ES2015a.A.words1428', 'ES2015a.A.words1429', 'ES2015a.A.words1430', 'ES2015a.A.words1431', 'ES2015a.A.words1432', 'ES2015a.A.words1433', 'ES2015a.A.words1434', 'ES2015a.A.words1435', 'ES2015a.A.words1436', 'ES2015a.A.words1437', 'ES2015a.A.words1438', 'ES2015a.A.words1439', 'ES2015a.A.words1440', 'ES2015a.A.words1441', 'ES2015a.A.words1442', 'ES2015a.A.words1443', 'ES2015a.A.words1444', 'ES2015a.A.words1445', 'ES2015a.A.words1446', 'ES2015a.A.words1447', 'ES2015a.A.words1448', 'ES2015a.A.words1449', 'ES2015a.A.words1450', 'ES2015a.A.words1451', 'ES2015a.A.words1452', 'ES2015a.A.words1453', 'ES2015a.A.words1454', 'ES2015a.A.words1455', 'ES2015a.A.words1456', 'ES2015a.A.words1457', 'ES2015a.A.words1458', 'ES2015a.A.words1459', 'ES2015a.A.words1460', 'ES2015a.A.words1461', 'ES2015a.A.words1462', 'ES2015a.A.words1463', 'ES2015a.A.words1464', 'ES2015a.A.words1465', 'ES2015a.A.words1466', 'ES2015a.A.words1467', 'ES2015a.A.words1468', 'ES2015a.A.words1469', 'ES2015a.A.words1470', 'ES2015a.A.words1471', 'ES2015a.A.words1472', 'ES2015a.A.words1473', 'ES2015a.A.words1474', 'ES2015a.A.words1475', 'ES2015a.A.words1476', 'ES2015a.A.words1477', 'ES2015a.A.words1478', 'ES2015a.A.words1479', 'ES2015a.A.words1480', 'ES2015a.A.words1481', 'ES2015a.A.words1482', 'ES2015a.A.words1483', 'ES2015a.A.words1484', 'ES2015a.A.words1485', 'ES2015a.A.words1486', 'ES2015a.A.words1487', 'ES2015a.A.words1488', 'ES2015a.A.words1489', 'ES2015a.A.words1490', 'ES2015a.A.words1491', 'ES2015a.A.words1492', 'ES2015a.A.words1493', 'ES2015a.A.words1494', 'ES2015a.A.words1495', 'ES2015a.A.words1496', 'ES2015a.A.words1497', 'ES2015a.A.words1498', 'ES2015a.B.words614', 'ES2015a.B.words615', 'ES2015a.D.words506', 'ES2015a.D.words507', 'ES2015a.D.words508', 'ES2015a.D.words509', 'ES2015a.D.words510', 'ES2015a.D.words511', 'ES2015a.B.words616', 'ES2015a.B.words617', 'ES2015a.B.words618', 'ES2015a.B.words619', 'ES2015a.B.words620', 'ES2015a.B.words621', 'ES2015a.B.words622', 'ES2015a.A.words1499', 'ES2015a.A.words1500', 'ES2015a.A.words1501', 'ES2015a.A.words1502', 'ES2015a.A.words1503', 'ES2015a.A.words1504', 'ES2015a.A.words1505', 'ES2015a.A.words1506', 'ES2015a.A.words1507', 'ES2015a.A.words1508', 'ES2015a.A.words1509', 'ES2015a.A.words1510', 'ES2015a.A.words1511', 'ES2015a.A.words1512', 'ES2015a.A.words1513', 'ES2015a.A.words1514', 'ES2015a.A.words1515', 'ES2015a.A.words1516', 'ES2015a.A.words1517', 'ES2015a.A.words1518', 'ES2015a.A.words1519', 'ES2015a.A.words1520', 'ES2015a.A.words1521', 'ES2015a.A.words1522', 'ES2015a.A.words1523', 'ES2015a.A.words1524', 'ES2015a.A.words1525', 'ES2015a.A.words1526', 'ES2015a.A.words1527', 'ES2015a.A.words1528', 'ES2015a.A.words1529', 'ES2015a.A.words1530', 'ES2015a.A.words1531', 'ES2015a.A.words1532', 'ES2015a.A.words1533', 'ES2015a.A.words1534', 'ES2015a.A.words1535', 'ES2015a.A.words1536', 'ES2015a.A.words1537', 'ES2015a.A.words1538', 'ES2015a.A.words1539', 'ES2015a.A.words1540', 'ES2015a.A.words1541', 'ES2015a.A.words1542', 'ES2015a.A.words1543', 'ES2015a.A.words1544', 'ES2015a.A.words1545', 'ES2015a.A.words1546', 'ES2015a.A.words1547', 'ES2015a.A.words1548', 'ES2015a.A.words1549', 'ES2015a.A.words1550', 'ES2015a.A.words1551', 'ES2015a.A.words1552', 'ES2015a.A.words1553', 'ES2015a.A.words1554', 'ES2015a.A.words1555', 'ES2015a.A.words1556', 'ES2015a.A.words1557', 'ES2015a.A.words1558', 'ES2015a.A.words1559', 'ES2015a.A.words1560', 'ES2015a.A.words1561', 'ES2015a.A.words1562', 'ES2015a.A.words1563', 'ES2015a.A.words1564', 'ES2015a.A.words1565', 'ES2015a.A.words1566', 'ES2015a.A.words1567', 'ES2015a.A.words1568', 'ES2015a.A.words1569', 'ES2015a.A.words1570', 'ES2015a.A.words1571', 'ES2015a.A.words1572', 'ES2015a.A.words1573', 'ES2015a.A.words1574', 'ES2015a.A.words1575', 'ES2015a.A.words1576', 'ES2015a.A.words1577', 'ES2015a.A.words1578', 'ES2015a.A.words1579', 'ES2015a.A.words1580', 'ES2015a.A.words1581', 'ES2015a.A.words1582', 'ES2015a.A.words1583', 'ES2015a.A.words1584', 'ES2015a.A.words1585', 'ES2015a.A.words1586', 'ES2015a.A.words1587', 'ES2015a.A.words1588', 'ES2015a.A.words1589', 'ES2015a.A.words1590', 'ES2015a.A.words1591', 'ES2015a.A.words1592', 'ES2015a.A.words1593', 'ES2015a.A.words1594', 'ES2015a.A.words1595', 'ES2015a.A.words1596', 'ES2015a.B.words623', 'ES2015a.B.words624', 'ES2015a.D.words512', 'ES2015a.D.words513', 'ES2015a.D.words514', 'ES2015a.D.words515', 'ES2015a.B.words625', 'ES2015a.B.words626', 'ES2015a.B.words627', 'ES2015a.B.words628', 'ES2015a.B.words629', 'ES2015a.C.words391']}, {'topicID': 'ES2015a.topic.elana.8', 'wordsIndexes': ['ES2015a.A.words1411', 'ES2015a.A.words1412', 'ES2015a.A.words1413', 'ES2015a.A.words1414', 'ES2015a.A.words1415', 'ES2015a.A.words1416', 'ES2015a.A.words1417', 'ES2015a.A.words1418', 'ES2015a.A.words1419', 'ES2015a.A.words1420', 'ES2015a.A.words1421', 'ES2015a.A.words1422', 'ES2015a.A.words1423', 'ES2015a.A.words1424', 'ES2015a.A.words1425', 'ES2015a.A.words1426', 'ES2015a.A.words1427', 'ES2015a.A.words1428', 'ES2015a.A.words1429', 'ES2015a.A.words1430', 'ES2015a.A.words1431', 'ES2015a.A.words1432', 'ES2015a.A.words1433', 'ES2015a.A.words1434', 'ES2015a.A.words1435', 'ES2015a.A.words1436', 'ES2015a.A.words1437', 'ES2015a.A.words1438', 'ES2015a.A.words1439', 'ES2015a.A.words1440', 'ES2015a.A.words1441', 'ES2015a.A.words1442', 'ES2015a.A.words1443', 'ES2015a.A.words1444', 'ES2015a.A.words1445', 'ES2015a.A.words1446', 'ES2015a.A.words1447', 'ES2015a.A.words1448', 'ES2015a.A.words1449', 'ES2015a.A.words1450', 'ES2015a.A.words1451', 'ES2015a.A.words1452', 'ES2015a.A.words1453', 'ES2015a.A.words1454', 'ES2015a.A.words1455', 'ES2015a.A.words1456', 'ES2015a.A.words1457', 'ES2015a.A.words1458', 'ES2015a.A.words1459', 'ES2015a.A.words1460', 'ES2015a.A.words1461', 'ES2015a.A.words1462', 'ES2015a.A.words1463', 'ES2015a.A.words1464', 'ES2015a.A.words1465', 'ES2015a.A.words1466', 'ES2015a.A.words1467', 'ES2015a.A.words1468', 'ES2015a.A.words1469', 'ES2015a.A.words1470', 'ES2015a.A.words1471', 'ES2015a.A.words1472', 'ES2015a.A.words1473', 'ES2015a.A.words1474', 'ES2015a.A.words1475', 'ES2015a.A.words1476', 'ES2015a.A.words1477', 'ES2015a.A.words1478', 'ES2015a.A.words1479', 'ES2015a.A.words1480', 'ES2015a.A.words1481', 'ES2015a.A.words1482', 'ES2015a.A.words1483', 'ES2015a.A.words1484', 'ES2015a.A.words1485', 'ES2015a.A.words1486', 'ES2015a.A.words1487', 'ES2015a.A.words1488', 'ES2015a.A.words1489', 'ES2015a.A.words1490', 'ES2015a.A.words1491', 'ES2015a.A.words1492', 'ES2015a.A.words1493', 'ES2015a.A.words1494', 'ES2015a.A.words1495', 'ES2015a.A.words1496', 'ES2015a.A.words1497', 'ES2015a.A.words1498', 'ES2015a.B.words614', 'ES2015a.B.words615', 'ES2015a.D.words506', 'ES2015a.D.words507', 'ES2015a.D.words508', 'ES2015a.D.words509', 'ES2015a.D.words510', 'ES2015a.D.words511', 'ES2015a.B.words616', 'ES2015a.B.words617', 'ES2015a.B.words618', 'ES2015a.B.words619', 'ES2015a.B.words620', 'ES2015a.B.words621', 'ES2015a.B.words622', 'ES2015a.A.words1499', 'ES2015a.A.words1500', 'ES2015a.A.words1501', 'ES2015a.A.words1502', 'ES2015a.A.words1503', 'ES2015a.A.words1504', 'ES2015a.A.words1505', 'ES2015a.A.words1506', 'ES2015a.A.words1507', 'ES2015a.A.words1508', 'ES2015a.A.words1509', 'ES2015a.A.words1510', 'ES2015a.A.words1511', 'ES2015a.A.words1512', 'ES2015a.A.words1513', 'ES2015a.A.words1514', 'ES2015a.A.words1515', 'ES2015a.A.words1516', 'ES2015a.A.words1517', 'ES2015a.A.words1518', 'ES2015a.A.words1519', 'ES2015a.A.words1520', 'ES2015a.A.words1521', 'ES2015a.A.words1522', 'ES2015a.A.words1523', 'ES2015a.A.words1524', 'ES2015a.A.words1525', 'ES2015a.A.words1526', 'ES2015a.A.words1527', 'ES2015a.A.words1528', 'ES2015a.A.words1529', 'ES2015a.A.words1530', 'ES2015a.A.words1531', 'ES2015a.A.words1532', 'ES2015a.A.words1533', 'ES2015a.A.words1534', 'ES2015a.A.words1535', 'ES2015a.A.words1536', 'ES2015a.A.words1537', 'ES2015a.A.words1538', 'ES2015a.A.words1539', 'ES2015a.A.words1540', 'ES2015a.A.words1541', 'ES2015a.A.words1542', 'ES2015a.A.words1543', 'ES2015a.A.words1544', 'ES2015a.A.words1545', 'ES2015a.A.words1546', 'ES2015a.A.words1547', 'ES2015a.A.words1548', 'ES2015a.A.words1549', 'ES2015a.A.words1550', 'ES2015a.A.words1551', 'ES2015a.A.words1552', 'ES2015a.A.words1553', 'ES2015a.A.words1554', 'ES2015a.A.words1555', 'ES2015a.A.words1556', 'ES2015a.A.words1557', 'ES2015a.A.words1558', 'ES2015a.A.words1559', 'ES2015a.A.words1560', 'ES2015a.A.words1561', 'ES2015a.A.words1562', 'ES2015a.A.words1563', 'ES2015a.A.words1564', 'ES2015a.A.words1565', 'ES2015a.A.words1566', 'ES2015a.A.words1567', 'ES2015a.A.words1568', 'ES2015a.A.words1569', 'ES2015a.A.words1570', 'ES2015a.A.words1571', 'ES2015a.A.words1572', 'ES2015a.A.words1573', 'ES2015a.A.words1574', 'ES2015a.A.words1575', 'ES2015a.A.words1576', 'ES2015a.A.words1577', 'ES2015a.A.words1578', 'ES2015a.A.words1579', 'ES2015a.A.words1580', 'ES2015a.A.words1581', 'ES2015a.A.words1582', 'ES2015a.A.words1583', 'ES2015a.A.words1584', 'ES2015a.A.words1585', 'ES2015a.A.words1586', 'ES2015a.A.words1587', 'ES2015a.A.words1588', 'ES2015a.A.words1589', 'ES2015a.A.words1590', 'ES2015a.A.words1591', 'ES2015a.A.words1592', 'ES2015a.A.words1593', 'ES2015a.A.words1594', 'ES2015a.A.words1595', 'ES2015a.A.words1596', 'ES2015a.B.words623', 'ES2015a.B.words624', 'ES2015a.D.words512', 'ES2015a.D.words513', 'ES2015a.D.words514', 'ES2015a.D.words515', 'ES2015a.B.words625', 'ES2015a.B.words626', 'ES2015a.B.words627', 'ES2015a.B.words628', 'ES2015a.B.words629', 'ES2015a.C.words391']}, {'topicID': 'ES2015a.topic.elana.8', 'wordsIndexes': ['ES2015a.A.words1411', 'ES2015a.A.words1412', 'ES2015a.A.words1413', 'ES2015a.A.words1414', 'ES2015a.A.words1415', 'ES2015a.A.words1416', 'ES2015a.A.words1417', 'ES2015a.A.words1418', 'ES2015a.A.words1419', 'ES2015a.A.words1420', 'ES2015a.A.words1421', 'ES2015a.A.words1422', 'ES2015a.A.words1423', 'ES2015a.A.words1424', 'ES2015a.A.words1425', 'ES2015a.A.words1426', 'ES2015a.A.words1427', 'ES2015a.A.words1428', 'ES2015a.A.words1429', 'ES2015a.A.words1430', 'ES2015a.A.words1431', 'ES2015a.A.words1432', 'ES2015a.A.words1433', 'ES2015a.A.words1434', 'ES2015a.A.words1435', 'ES2015a.A.words1436', 'ES2015a.A.words1437', 'ES2015a.A.words1438', 'ES2015a.A.words1439', 'ES2015a.A.words1440', 'ES2015a.A.words1441', 'ES2015a.A.words1442', 'ES2015a.A.words1443', 'ES2015a.A.words1444', 'ES2015a.A.words1445', 'ES2015a.A.words1446', 'ES2015a.A.words1447', 'ES2015a.A.words1448', 'ES2015a.A.words1449', 'ES2015a.A.words1450', 'ES2015a.A.words1451', 'ES2015a.A.words1452', 'ES2015a.A.words1453', 'ES2015a.A.words1454', 'ES2015a.A.words1455', 'ES2015a.A.words1456', 'ES2015a.A.words1457', 'ES2015a.A.words1458', 'ES2015a.A.words1459', 'ES2015a.A.words1460', 'ES2015a.A.words1461', 'ES2015a.A.words1462', 'ES2015a.A.words1463', 'ES2015a.A.words1464', 'ES2015a.A.words1465', 'ES2015a.A.words1466', 'ES2015a.A.words1467', 'ES2015a.A.words1468', 'ES2015a.A.words1469', 'ES2015a.A.words1470', 'ES2015a.A.words1471', 'ES2015a.A.words1472', 'ES2015a.A.words1473', 'ES2015a.A.words1474', 'ES2015a.A.words1475', 'ES2015a.A.words1476', 'ES2015a.A.words1477', 'ES2015a.A.words1478', 'ES2015a.A.words1479', 'ES2015a.A.words1480', 'ES2015a.A.words1481', 'ES2015a.A.words1482', 'ES2015a.A.words1483', 'ES2015a.A.words1484', 'ES2015a.A.words1485', 'ES2015a.A.words1486', 'ES2015a.A.words1487', 'ES2015a.A.words1488', 'ES2015a.A.words1489', 'ES2015a.A.words1490', 'ES2015a.A.words1491', 'ES2015a.A.words1492', 'ES2015a.A.words1493', 'ES2015a.A.words1494', 'ES2015a.A.words1495', 'ES2015a.A.words1496', 'ES2015a.A.words1497', 'ES2015a.A.words1498', 'ES2015a.B.words614', 'ES2015a.B.words615', 'ES2015a.D.words506', 'ES2015a.D.words507', 'ES2015a.D.words508', 'ES2015a.D.words509', 'ES2015a.D.words510', 'ES2015a.D.words511', 'ES2015a.B.words616', 'ES2015a.B.words617', 'ES2015a.B.words618', 'ES2015a.B.words619', 'ES2015a.B.words620', 'ES2015a.B.words621', 'ES2015a.B.words622', 'ES2015a.A.words1499', 'ES2015a.A.words1500', 'ES2015a.A.words1501', 'ES2015a.A.words1502', 'ES2015a.A.words1503', 'ES2015a.A.words1504', 'ES2015a.A.words1505', 'ES2015a.A.words1506', 'ES2015a.A.words1507', 'ES2015a.A.words1508', 'ES2015a.A.words1509', 'ES2015a.A.words1510', 'ES2015a.A.words1511', 'ES2015a.A.words1512', 'ES2015a.A.words1513', 'ES2015a.A.words1514', 'ES2015a.A.words1515', 'ES2015a.A.words1516', 'ES2015a.A.words1517', 'ES2015a.A.words1518', 'ES2015a.A.words1519', 'ES2015a.A.words1520', 'ES2015a.A.words1521', 'ES2015a.A.words1522', 'ES2015a.A.words1523', 'ES2015a.A.words1524', 'ES2015a.A.words1525', 'ES2015a.A.words1526', 'ES2015a.A.words1527', 'ES2015a.A.words1528', 'ES2015a.A.words1529', 'ES2015a.A.words1530', 'ES2015a.A.words1531', 'ES2015a.A.words1532', 'ES2015a.A.words1533', 'ES2015a.A.words1534', 'ES2015a.A.words1535', 'ES2015a.A.words1536', 'ES2015a.A.words1537', 'ES2015a.A.words1538', 'ES2015a.A.words1539', 'ES2015a.A.words1540', 'ES2015a.A.words1541', 'ES2015a.A.words1542', 'ES2015a.A.words1543', 'ES2015a.A.words1544', 'ES2015a.A.words1545', 'ES2015a.A.words1546', 'ES2015a.A.words1547', 'ES2015a.A.words1548', 'ES2015a.A.words1549', 'ES2015a.A.words1550', 'ES2015a.A.words1551', 'ES2015a.A.words1552', 'ES2015a.A.words1553', 'ES2015a.A.words1554', 'ES2015a.A.words1555', 'ES2015a.A.words1556', 'ES2015a.A.words1557', 'ES2015a.A.words1558', 'ES2015a.A.words1559', 'ES2015a.A.words1560', 'ES2015a.A.words1561', 'ES2015a.A.words1562', 'ES2015a.A.words1563', 'ES2015a.A.words1564', 'ES2015a.A.words1565', 'ES2015a.A.words1566', 'ES2015a.A.words1567', 'ES2015a.A.words1568', 'ES2015a.A.words1569', 'ES2015a.A.words1570', 'ES2015a.A.words1571', 'ES2015a.A.words1572', 'ES2015a.A.words1573', 'ES2015a.A.words1574', 'ES2015a.A.words1575', 'ES2015a.A.words1576', 'ES2015a.A.words1577', 'ES2015a.A.words1578', 'ES2015a.A.words1579', 'ES2015a.A.words1580', 'ES2015a.A.words1581', 'ES2015a.A.words1582', 'ES2015a.A.words1583', 'ES2015a.A.words1584', 'ES2015a.A.words1585', 'ES2015a.A.words1586', 'ES2015a.A.words1587', 'ES2015a.A.words1588', 'ES2015a.A.words1589', 'ES2015a.A.words1590', 'ES2015a.A.words1591', 'ES2015a.A.words1592', 'ES2015a.A.words1593', 'ES2015a.A.words1594', 'ES2015a.A.words1595', 'ES2015a.A.words1596', 'ES2015a.B.words623', 'ES2015a.B.words624', 'ES2015a.D.words512', 'ES2015a.D.words513', 'ES2015a.D.words514', 'ES2015a.D.words515', 'ES2015a.B.words625', 'ES2015a.B.words626', 'ES2015a.B.words627', 'ES2015a.B.words628', 'ES2015a.B.words629', 'ES2015a.C.words391']}, {'topicID': 'ES2015a.topic.elana.8', 'wordsIndexes': ['ES2015a.A.words1411', 'ES2015a.A.words1412', 'ES2015a.A.words1413', 'ES2015a.A.words1414', 'ES2015a.A.words1415', 'ES2015a.A.words1416', 'ES2015a.A.words1417', 'ES2015a.A.words1418', 'ES2015a.A.words1419', 'ES2015a.A.words1420', 'ES2015a.A.words1421', 'ES2015a.A.words1422', 'ES2015a.A.words1423', 'ES2015a.A.words1424', 'ES2015a.A.words1425', 'ES2015a.A.words1426', 'ES2015a.A.words1427', 'ES2015a.A.words1428', 'ES2015a.A.words1429', 'ES2015a.A.words1430', 'ES2015a.A.words1431', 'ES2015a.A.words1432', 'ES2015a.A.words1433', 'ES2015a.A.words1434', 'ES2015a.A.words1435', 'ES2015a.A.words1436', 'ES2015a.A.words1437', 'ES2015a.A.words1438', 'ES2015a.A.words1439', 'ES2015a.A.words1440', 'ES2015a.A.words1441', 'ES2015a.A.words1442', 'ES2015a.A.words1443', 'ES2015a.A.words1444', 'ES2015a.A.words1445', 'ES2015a.A.words1446', 'ES2015a.A.words1447', 'ES2015a.A.words1448', 'ES2015a.A.words1449', 'ES2015a.A.words1450', 'ES2015a.A.words1451', 'ES2015a.A.words1452', 'ES2015a.A.words1453', 'ES2015a.A.words1454', 'ES2015a.A.words1455', 'ES2015a.A.words1456', 'ES2015a.A.words1457', 'ES2015a.A.words1458', 'ES2015a.A.words1459', 'ES2015a.A.words1460', 'ES2015a.A.words1461', 'ES2015a.A.words1462', 'ES2015a.A.words1463', 'ES2015a.A.words1464', 'ES2015a.A.words1465', 'ES2015a.A.words1466', 'ES2015a.A.words1467', 'ES2015a.A.words1468', 'ES2015a.A.words1469', 'ES2015a.A.words1470', 'ES2015a.A.words1471', 'ES2015a.A.words1472', 'ES2015a.A.words1473', 'ES2015a.A.words1474', 'ES2015a.A.words1475', 'ES2015a.A.words1476', 'ES2015a.A.words1477', 'ES2015a.A.words1478', 'ES2015a.A.words1479', 'ES2015a.A.words1480', 'ES2015a.A.words1481', 'ES2015a.A.words1482', 'ES2015a.A.words1483', 'ES2015a.A.words1484', 'ES2015a.A.words1485', 'ES2015a.A.words1486', 'ES2015a.A.words1487', 'ES2015a.A.words1488', 'ES2015a.A.words1489', 'ES2015a.A.words1490', 'ES2015a.A.words1491', 'ES2015a.A.words1492', 'ES2015a.A.words1493', 'ES2015a.A.words1494', 'ES2015a.A.words1495', 'ES2015a.A.words1496', 'ES2015a.A.words1497', 'ES2015a.A.words1498', 'ES2015a.B.words614', 'ES2015a.B.words615', 'ES2015a.D.words506', 'ES2015a.D.words507', 'ES2015a.D.words508', 'ES2015a.D.words509', 'ES2015a.D.words510', 'ES2015a.D.words511', 'ES2015a.B.words616', 'ES2015a.B.words617', 'ES2015a.B.words618', 'ES2015a.B.words619', 'ES2015a.B.words620', 'ES2015a.B.words621', 'ES2015a.B.words622', 'ES2015a.A.words1499', 'ES2015a.A.words1500', 'ES2015a.A.words1501', 'ES2015a.A.words1502', 'ES2015a.A.words1503', 'ES2015a.A.words1504', 'ES2015a.A.words1505', 'ES2015a.A.words1506', 'ES2015a.A.words1507', 'ES2015a.A.words1508', 'ES2015a.A.words1509', 'ES2015a.A.words1510', 'ES2015a.A.words1511', 'ES2015a.A.words1512', 'ES2015a.A.words1513', 'ES2015a.A.words1514', 'ES2015a.A.words1515', 'ES2015a.A.words1516', 'ES2015a.A.words1517', 'ES2015a.A.words1518', 'ES2015a.A.words1519', 'ES2015a.A.words1520', 'ES2015a.A.words1521', 'ES2015a.A.words1522', 'ES2015a.A.words1523', 'ES2015a.A.words1524', 'ES2015a.A.words1525', 'ES2015a.A.words1526', 'ES2015a.A.words1527', 'ES2015a.A.words1528', 'ES2015a.A.words1529', 'ES2015a.A.words1530', 'ES2015a.A.words1531', 'ES2015a.A.words1532', 'ES2015a.A.words1533', 'ES2015a.A.words1534', 'ES2015a.A.words1535', 'ES2015a.A.words1536', 'ES2015a.A.words1537', 'ES2015a.A.words1538', 'ES2015a.A.words1539', 'ES2015a.A.words1540', 'ES2015a.A.words1541', 'ES2015a.A.words1542', 'ES2015a.A.words1543', 'ES2015a.A.words1544', 'ES2015a.A.words1545', 'ES2015a.A.words1546', 'ES2015a.A.words1547', 'ES2015a.A.words1548', 'ES2015a.A.words1549', 'ES2015a.A.words1550', 'ES2015a.A.words1551', 'ES2015a.A.words1552', 'ES2015a.A.words1553', 'ES2015a.A.words1554', 'ES2015a.A.words1555', 'ES2015a.A.words1556', 'ES2015a.A.words1557', 'ES2015a.A.words1558', 'ES2015a.A.words1559', 'ES2015a.A.words1560', 'ES2015a.A.words1561', 'ES2015a.A.words1562', 'ES2015a.A.words1563', 'ES2015a.A.words1564', 'ES2015a.A.words1565', 'ES2015a.A.words1566', 'ES2015a.A.words1567', 'ES2015a.A.words1568', 'ES2015a.A.words1569', 'ES2015a.A.words1570', 'ES2015a.A.words1571', 'ES2015a.A.words1572', 'ES2015a.A.words1573', 'ES2015a.A.words1574', 'ES2015a.A.words1575', 'ES2015a.A.words1576', 'ES2015a.A.words1577', 'ES2015a.A.words1578', 'ES2015a.A.words1579', 'ES2015a.A.words1580', 'ES2015a.A.words1581', 'ES2015a.A.words1582', 'ES2015a.A.words1583', 'ES2015a.A.words1584', 'ES2015a.A.words1585', 'ES2015a.A.words1586', 'ES2015a.A.words1587', 'ES2015a.A.words1588', 'ES2015a.A.words1589', 'ES2015a.A.words1590', 'ES2015a.A.words1591', 'ES2015a.A.words1592', 'ES2015a.A.words1593', 'ES2015a.A.words1594', 'ES2015a.A.words1595', 'ES2015a.A.words1596', 'ES2015a.B.words623', 'ES2015a.B.words624', 'ES2015a.D.words512', 'ES2015a.D.words513', 'ES2015a.D.words514', 'ES2015a.D.words515', 'ES2015a.B.words625', 'ES2015a.B.words626', 'ES2015a.B.words627', 'ES2015a.B.words628', 'ES2015a.B.words629', 'ES2015a.C.words391']}]\n"
     ]
    }
   ],
   "source": [
    "print totalContents"
   ]
  },
  {
   "cell_type": "code",
   "execution_count": 98,
   "metadata": {
    "collapsed": false
   },
   "outputs": [],
   "source": [
    "# open file\n",
    "import json\n",
    "with open(fileRoot + '.json', 'w+') as outFile:\n",
    "    json.dump(totalContents, outFile)"
   ]
  },
  {
   "cell_type": "code",
   "execution_count": null,
   "metadata": {
    "collapsed": true
   },
   "outputs": [],
   "source": []
  },
  {
   "cell_type": "code",
   "execution_count": null,
   "metadata": {
    "collapsed": true
   },
   "outputs": [],
   "source": []
  }
 ],
 "metadata": {
  "kernelspec": {
   "display_name": "Python 2",
   "language": "python",
   "name": "python2"
  },
  "language_info": {
   "codemirror_mode": {
    "name": "ipython",
    "version": 2
   },
   "file_extension": ".py",
   "mimetype": "text/x-python",
   "name": "python",
   "nbconvert_exporter": "python",
   "pygments_lexer": "ipython2",
   "version": "2.7.11"
  }
 },
 "nbformat": 4,
 "nbformat_minor": 0
}
