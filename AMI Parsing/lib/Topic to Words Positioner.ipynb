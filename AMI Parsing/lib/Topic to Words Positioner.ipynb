{
 "cells": [
  {
   "cell_type": "code",
   "execution_count": 60,
   "metadata": {
    "collapsed": false
   },
   "outputs": [],
   "source": [
    "#coding=utf-8\n",
    "# Topic Parser\n",
    "# Description:\n",
    "#    而每一份中會有數個會議檔案，用小寫編號 eg. ES2002a, ES2002b...\n",
    "#    每個檔案中會有數個人講話，用大寫編號 eg. A, B, C...\n",
    "# Usage:\n",
    "#    輸入欲分析的檔案，一直按指令即可"
   ]
  },
  {
   "cell_type": "code",
   "execution_count": 61,
   "metadata": {
    "collapsed": true
   },
   "outputs": [],
   "source": [
    "import xml.etree.ElementTree as ET"
   ]
  },
  {
   "cell_type": "code",
   "execution_count": 130,
   "metadata": {
    "collapsed": true
   },
   "outputs": [],
   "source": [
    "filePrefix = 'ES2015b'"
   ]
  },
  {
   "cell_type": "code",
   "execution_count": 131,
   "metadata": {
    "collapsed": true
   },
   "outputs": [],
   "source": [
    "fileRoot = filePrefix + '.topic'"
   ]
  },
  {
   "cell_type": "code",
   "execution_count": 132,
   "metadata": {
    "collapsed": false
   },
   "outputs": [],
   "source": [
    "fileName= '../AMI_corpus_resources/topics/' + fileRoot + '.xml'"
   ]
  },
  {
   "cell_type": "code",
   "execution_count": 133,
   "metadata": {
    "collapsed": false
   },
   "outputs": [
    {
     "ename": "IOError",
     "evalue": "[Errno 2] No such file or directory: '../AMI_corpus_resources/topics/ES2015b.topic.xml'",
     "output_type": "error",
     "traceback": [
      "\u001b[0;31m---------------------------------------------------------------------------\u001b[0m",
      "\u001b[0;31mIOError\u001b[0m                                   Traceback (most recent call last)",
      "\u001b[0;32m<ipython-input-133-d1dcd6c4118d>\u001b[0m in \u001b[0;36m<module>\u001b[0;34m()\u001b[0m\n\u001b[0;32m----> 1\u001b[0;31m \u001b[0mtree\u001b[0m \u001b[0;34m=\u001b[0m \u001b[0mET\u001b[0m\u001b[0;34m.\u001b[0m\u001b[0mparse\u001b[0m\u001b[0;34m(\u001b[0m\u001b[0mfileName\u001b[0m\u001b[0;34m)\u001b[0m\u001b[0;34m\u001b[0m\u001b[0m\n\u001b[0m",
      "\u001b[0;32m/Users/makris/anaconda/lib/python2.7/xml/etree/ElementTree.pyc\u001b[0m in \u001b[0;36mparse\u001b[0;34m(source, parser)\u001b[0m\n\u001b[1;32m   1180\u001b[0m \u001b[0;32mdef\u001b[0m \u001b[0mparse\u001b[0m\u001b[0;34m(\u001b[0m\u001b[0msource\u001b[0m\u001b[0;34m,\u001b[0m \u001b[0mparser\u001b[0m\u001b[0;34m=\u001b[0m\u001b[0mNone\u001b[0m\u001b[0;34m)\u001b[0m\u001b[0;34m:\u001b[0m\u001b[0;34m\u001b[0m\u001b[0m\n\u001b[1;32m   1181\u001b[0m     \u001b[0mtree\u001b[0m \u001b[0;34m=\u001b[0m \u001b[0mElementTree\u001b[0m\u001b[0;34m(\u001b[0m\u001b[0;34m)\u001b[0m\u001b[0;34m\u001b[0m\u001b[0m\n\u001b[0;32m-> 1182\u001b[0;31m     \u001b[0mtree\u001b[0m\u001b[0;34m.\u001b[0m\u001b[0mparse\u001b[0m\u001b[0;34m(\u001b[0m\u001b[0msource\u001b[0m\u001b[0;34m,\u001b[0m \u001b[0mparser\u001b[0m\u001b[0;34m)\u001b[0m\u001b[0;34m\u001b[0m\u001b[0m\n\u001b[0m\u001b[1;32m   1183\u001b[0m     \u001b[0;32mreturn\u001b[0m \u001b[0mtree\u001b[0m\u001b[0;34m\u001b[0m\u001b[0m\n\u001b[1;32m   1184\u001b[0m \u001b[0;34m\u001b[0m\u001b[0m\n",
      "\u001b[0;32m/Users/makris/anaconda/lib/python2.7/xml/etree/ElementTree.pyc\u001b[0m in \u001b[0;36mparse\u001b[0;34m(self, source, parser)\u001b[0m\n\u001b[1;32m    645\u001b[0m         \u001b[0mclose_source\u001b[0m \u001b[0;34m=\u001b[0m \u001b[0mFalse\u001b[0m\u001b[0;34m\u001b[0m\u001b[0m\n\u001b[1;32m    646\u001b[0m         \u001b[0;32mif\u001b[0m \u001b[0;32mnot\u001b[0m \u001b[0mhasattr\u001b[0m\u001b[0;34m(\u001b[0m\u001b[0msource\u001b[0m\u001b[0;34m,\u001b[0m \u001b[0;34m\"read\"\u001b[0m\u001b[0;34m)\u001b[0m\u001b[0;34m:\u001b[0m\u001b[0;34m\u001b[0m\u001b[0m\n\u001b[0;32m--> 647\u001b[0;31m             \u001b[0msource\u001b[0m \u001b[0;34m=\u001b[0m \u001b[0mopen\u001b[0m\u001b[0;34m(\u001b[0m\u001b[0msource\u001b[0m\u001b[0;34m,\u001b[0m \u001b[0;34m\"rb\"\u001b[0m\u001b[0;34m)\u001b[0m\u001b[0;34m\u001b[0m\u001b[0m\n\u001b[0m\u001b[1;32m    648\u001b[0m             \u001b[0mclose_source\u001b[0m \u001b[0;34m=\u001b[0m \u001b[0mTrue\u001b[0m\u001b[0;34m\u001b[0m\u001b[0m\n\u001b[1;32m    649\u001b[0m         \u001b[0;32mtry\u001b[0m\u001b[0;34m:\u001b[0m\u001b[0;34m\u001b[0m\u001b[0m\n",
      "\u001b[0;31mIOError\u001b[0m: [Errno 2] No such file or directory: '../AMI_corpus_resources/topics/ES2015b.topic.xml'"
     ]
    }
   ],
   "source": [
    "tree = ET.parse(fileName)"
   ]
  },
  {
   "cell_type": "code",
   "execution_count": 134,
   "metadata": {
    "collapsed": true
   },
   "outputs": [],
   "source": [
    "root = tree.getroot()"
   ]
  },
  {
   "cell_type": "code",
   "execution_count": 135,
   "metadata": {
    "collapsed": true
   },
   "outputs": [],
   "source": [
    "idName = '{http://nite.sourceforge.net/}id'"
   ]
  },
  {
   "cell_type": "code",
   "execution_count": 136,
   "metadata": {
    "collapsed": true
   },
   "outputs": [],
   "source": [
    "import re # regrssion expression"
   ]
  },
  {
   "cell_type": "code",
   "execution_count": 137,
   "metadata": {
    "collapsed": false
   },
   "outputs": [],
   "source": [
    "# find complete matched content\n",
    "def findTotalWord(totalContent):\n",
    "    pattern = 'id\\((\\w+\\.\\w\\.\\w+)\\)'\n",
    "    matched = re.findall(pattern, totalContent)\n",
    "    return matched"
   ]
  },
  {
   "cell_type": "code",
   "execution_count": 121,
   "metadata": {
    "collapsed": false
   },
   "outputs": [],
   "source": [
    "# print word indexes\n",
    "def getWordIndex(matched):\n",
    "    wordList = []\n",
    "    if len(matched) == 1:\n",
    "        wordList.append(matched[0])\n",
    "    else:\n",
    "        # parse the word index\n",
    "        start = matched[0]\n",
    "        end = matched[1]\n",
    "        pattern = '\\d+'\n",
    "        startIndexes = re.findall(pattern, start)\n",
    "        endIndexes = re.findall(pattern, end)\n",
    "        startWordIndex = startIndexes[1]\n",
    "        endWordIndex = endIndexes[1]\n",
    "\n",
    "        # find the prefix # eg. ES2002a.B.words\n",
    "        prefixPattern = '\\D+\\d+\\D\\.\\D+\\.\\D+'\n",
    "        prefix = re.match(prefixPattern, start)\n",
    "        prefixStr = prefix.group(0)\n",
    "        \n",
    "        # conbine the prefix and the word index\n",
    "        for index in range(int(startWordIndex), int(endWordIndex) + 1):\n",
    "             wordList.append(prefixStr + str(index))\n",
    "    return wordList"
   ]
  },
  {
   "cell_type": "code",
   "execution_count": 122,
   "metadata": {
    "collapsed": false
   },
   "outputs": [],
   "source": [
    "# content\n",
    "totalContents = []\n",
    "for topic in root.iter('topic'):\n",
    "    aTopicDic = {}\n",
    "    \n",
    "    topicDescription = topic.get('other_description')\n",
    "    topicID = topic.get(idName)  # get: find attribute's content\n",
    "    \n",
    "    # check the description and ID exists\n",
    "    if topicDescription:\n",
    "        aTopicDic['topicDescription'] = topicDescription\n",
    "    else:\n",
    "        aTopicDic['topicDescription'] = \"No Topic\"\n",
    "    if topicID:\n",
    "        aTopicDic['topicID'] = topicID\n",
    "    else:\n",
    "        aTopicDic['topicID'] = \"No TopicID\"\n",
    "    \n",
    "    # join matched indexes of words\n",
    "    matchWordsIndexes = []\n",
    "    for child in topic.iter('{http://nite.sourceforge.net/}child'):\n",
    "        href = child.get('href')\n",
    "        totalWordStr = findTotalWord(href)\n",
    "        \n",
    "        tempWordIndexes = getWordIndex(totalWordStr)\n",
    "        for wordIndex in range(len(tempWordIndexes)):\n",
    "            matchWordsIndexes.append(tempWordIndexes[wordIndex])\n",
    "        \n",
    "    # store the match words indexes to aTopicDic\n",
    "    aTopicDic['wordsIndexes'] = matchWordsIndexes\n",
    "    \n",
    "    # store retrieved dict to array\n",
    "    totalContents.append(aTopicDic)"
   ]
  },
  {
   "cell_type": "code",
   "execution_count": 123,
   "metadata": {
    "collapsed": false
   },
   "outputs": [
    {
     "name": "stdout",
     "output_type": "stream",
     "text": [
      "{'topicDescription': 'No Topic', 'wordsIndexes': ['ES2015a.A.words0', 'ES2015a.A.words1', 'ES2015a.A.words2', 'ES2015a.A.words3', 'ES2015a.A.words4', 'ES2015a.A.words5', 'ES2015a.A.words6', 'ES2015a.A.words7', 'ES2015a.A.words8', 'ES2015a.A.words9', 'ES2015a.A.words10', 'ES2015a.A.words11', 'ES2015a.A.words12', 'ES2015a.A.words13', 'ES2015a.A.words14', 'ES2015a.A.words15', 'ES2015a.A.words16', 'ES2015a.A.words17', 'ES2015a.A.words18', 'ES2015a.A.words19', 'ES2015a.A.words20', 'ES2015a.A.words21', 'ES2015a.A.words22', 'ES2015a.A.words23', 'ES2015a.A.words24', 'ES2015a.A.words25', 'ES2015a.A.words26', 'ES2015a.A.words27', 'ES2015a.D.words0', 'ES2015a.D.words1', 'ES2015a.D.words2', 'ES2015a.D.words3', 'ES2015a.D.words4', 'ES2015a.D.words5', 'ES2015a.D.words6', 'ES2015a.D.words7', 'ES2015a.D.words8', 'ES2015a.D.words9', 'ES2015a.D.words10', 'ES2015a.D.words11', 'ES2015a.D.words12', 'ES2015a.D.words13', 'ES2015a.D.words14', 'ES2015a.D.words15', 'ES2015a.A.words28', 'ES2015a.A.words29', 'ES2015a.A.words30', 'ES2015a.A.words31', 'ES2015a.A.words32', 'ES2015a.A.words33', 'ES2015a.A.words34', 'ES2015a.A.words35', 'ES2015a.A.words36', 'ES2015a.A.words37', 'ES2015a.A.words38', 'ES2015a.A.words39', 'ES2015a.C.words0', 'ES2015a.B.words0', 'ES2015a.B.words1', 'ES2015a.B.words2', 'ES2015a.D.words16', 'ES2015a.A.words40', 'ES2015a.A.words41', 'ES2015a.A.words42', 'ES2015a.A.words43', 'ES2015a.D.words17', 'ES2015a.A.words44', 'ES2015a.A.words45', 'ES2015a.A.words46', 'ES2015a.A.words47', 'ES2015a.A.words48', 'ES2015a.A.words49', 'ES2015a.A.words50', 'ES2015a.A.words51', 'ES2015a.A.words52', 'ES2015a.A.words53', 'ES2015a.A.words54', 'ES2015a.A.words55', 'ES2015a.A.words56', 'ES2015a.A.words57', 'ES2015a.A.words58', 'ES2015a.A.words59', 'ES2015a.A.words60', 'ES2015a.A.words61', 'ES2015a.A.words62', 'ES2015a.A.words63', 'ES2015a.A.words64', 'ES2015a.A.words65', 'ES2015a.A.words66', 'ES2015a.A.words67', 'ES2015a.A.words68', 'ES2015a.A.words69', 'ES2015a.A.words70', 'ES2015a.A.words71', 'ES2015a.A.words72', 'ES2015a.A.words73', 'ES2015a.A.words74', 'ES2015a.A.words75', 'ES2015a.A.words76', 'ES2015a.A.words77', 'ES2015a.A.words78', 'ES2015a.A.words79', 'ES2015a.A.words80', 'ES2015a.A.words81', 'ES2015a.B.words3', 'ES2015a.B.words4', 'ES2015a.B.words5', 'ES2015a.C.words1', 'ES2015a.B.words6', 'ES2015a.B.words7', 'ES2015a.B.words8'], 'topicID': 'ES2015a.topic.elana.3'}\n"
     ]
    }
   ],
   "source": [
    "print totalContents[0]"
   ]
  },
  {
   "cell_type": "code",
   "execution_count": 124,
   "metadata": {
    "collapsed": false
   },
   "outputs": [
    {
     "data": {
      "text/plain": [
       "'No Topic'"
      ]
     },
     "execution_count": 124,
     "metadata": {},
     "output_type": "execute_result"
    }
   ],
   "source": [
    "aTopic = totalContents[0]\n",
    "aTopic['topicDescription']"
   ]
  },
  {
   "cell_type": "code",
   "execution_count": 125,
   "metadata": {
    "collapsed": true
   },
   "outputs": [],
   "source": [
    "# connect to database\n",
    "import pymysql\n",
    "connection = pymysql.connect(host='140.116.112.164',\n",
    "                             user='iim_project',\n",
    "                             password='1qaz2wsx3eDC',\n",
    "                             db='topic_to_what_words',\n",
    "                             charset='utf8mb4',\n",
    "                             cursorclass=pymysql.cursors.DictCursor)\n",
    "\n",
    "cursor = connection.cursor()"
   ]
  },
  {
   "cell_type": "code",
   "execution_count": 126,
   "metadata": {
    "collapsed": false
   },
   "outputs": [
    {
     "name": "stdout",
     "output_type": "stream",
     "text": [
      "create table `%s` (id int(11) NOT NULL AUTO_INCREMENT, topic varchar(255), relatedWordPos varchar(255), topicID varchar(255), PRIMARY KEY(id)) ENGINE=InnoDB DEFAULT CHARSET=utf8 COLLATE=utf8_bin AUTO_INCREMENT=1\n"
     ]
    }
   ],
   "source": [
    "# create table\n",
    "sql_create = \"create table `%s` (id int(11) NOT NULL AUTO_INCREMENT, topic varchar(255), relatedWordPos varchar(255), topicID varchar(255), PRIMARY KEY(id)) ENGINE=InnoDB DEFAULT CHARSET=utf8 COLLATE=utf8_bin AUTO_INCREMENT=1\" \n",
    "print sql_create"
   ]
  },
  {
   "cell_type": "code",
   "execution_count": 127,
   "metadata": {
    "collapsed": false
   },
   "outputs": [
    {
     "name": "stdout",
     "output_type": "stream",
     "text": [
      "ES2015a.topic_to_words\n"
     ]
    }
   ],
   "source": [
    "fileTableName = fileRoot + '_to_words'\n",
    "print fileTableName"
   ]
  },
  {
   "cell_type": "code",
   "execution_count": 128,
   "metadata": {
    "collapsed": true
   },
   "outputs": [],
   "source": [
    "cursor.execute(sql_create, fileTableName)\n",
    "connection.commit()"
   ]
  },
  {
   "cell_type": "code",
   "execution_count": 129,
   "metadata": {
    "collapsed": false
   },
   "outputs": [],
   "source": [
    "sql_insert = \"insert into `%s` (topic, relatedWordPos, topicID) values(%s, %s, %s)\"\n",
    "\n",
    "for index in range(len(totalContents)):\n",
    "    aTopicDic = totalContents[index]\n",
    "    \n",
    "    topicDescription = aTopicDic['topicDescription']\n",
    "    topicID = aTopicDic['topicID']\n",
    "    wordsInTopic = aTopicDic['wordsIndexes']\n",
    "    for wordPos in wordsInTopic:\n",
    "        cursor.execute(sql_insert,(fileTableName, topicDescription, wordPos, topicID))\n",
    "        \n",
    "connection.commit()"
   ]
  },
  {
   "cell_type": "code",
   "execution_count": null,
   "metadata": {
    "collapsed": true
   },
   "outputs": [],
   "source": []
  },
  {
   "cell_type": "code",
   "execution_count": null,
   "metadata": {
    "collapsed": true
   },
   "outputs": [],
   "source": []
  }
 ],
 "metadata": {
  "kernelspec": {
   "display_name": "Python 2",
   "language": "python",
   "name": "python2"
  },
  "language_info": {
   "codemirror_mode": {
    "name": "ipython",
    "version": 2
   },
   "file_extension": ".py",
   "mimetype": "text/x-python",
   "name": "python",
   "nbconvert_exporter": "python",
   "pygments_lexer": "ipython2",
   "version": "2.7.11"
  }
 },
 "nbformat": 4,
 "nbformat_minor": 0
}
